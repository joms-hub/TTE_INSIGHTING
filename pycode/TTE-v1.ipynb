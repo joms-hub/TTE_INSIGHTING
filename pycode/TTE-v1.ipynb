{
 "cells": [
  {
   "cell_type": "markdown",
   "metadata": {},
   "source": [
    "# TTE_R_TO_PYTHON\n",
    "\n",
    "- Jomar Cunado\n",
    "- January Venice Toledo"
   ]
  },
  {
   "cell_type": "markdown",
   "metadata": {},
   "source": [
    "# Target Trial Emulation - R Code to Python"
   ]
  },
  {
   "cell_type": "markdown",
   "metadata": {},
   "source": [
    "# Overview\n",
    "This Jupyter Notebook presents a Target Trial Emulation (TTE) framework, a method in epidemiology and causal inference used to mimic a randomized controlled trial (RCT) with observational data. The workflow incorporates Intention-to-Treat (ITT) and Per-Protocol (PP) analyses, addressing treatment changes and censoring through logistic regression. Finally, causal effects are estimated via Marginal Structural Models (MSM), with survival differences visualized.\n",
    "\n",
    "This implementation translates an R-based Target Trial Emulation into Python, utilizing `pandas`, `numpy`, `statsmodels`, and `lifelines` for survival analysis.\n",
    "\n",
    "---\n",
    "\n",
    "# Introduction\n",
    "Target Trial Emulation (TTE) provides a structured approach to analyzing observational data as if it were part of an RCT. It is widely applied in epidemiology and causal inference to estimate treatment effects while mitigating bias.\n",
    "\n",
    "This notebook follows a TTE process in Python by:\n",
    "- Establishing estimands: Intention-to-Treat (ITT) and Per-Protocol (PP) analyses.\n",
    "- Structuring data: Identifying treatment allocations, outcomes, and eligibility criteria.\n",
    "- Handling censoring: Applying Inverse Probability of Censoring Weights (IPCW) to adjust for treatment switching and informative censoring.\n",
    "- Expanding datasets: Organizing observational data into sequential trial periods.\n",
    "- Estimating causal effects: Implementing Marginal Structural Models (MSM).\n",
    "- Visualizing survival outcomes: Analyzing treatment impact over time.\n",
    "\n",
    "---\n",
    "\n",
    "# Workflow Steps"
   ]
  },
  {
   "cell_type": "markdown",
   "metadata": {},
   "source": [
    "## 1. Setup\n",
    "Required libraries are imported, a random seed is set for reproducibility, and temporary directories are created for file storage (e.g., model outputs). This aligns with the R script, where directories `pp_trial_path` and `itt_trial_path` are initialized.\n"
   ]
  },
  {
   "cell_type": "code",
   "execution_count": 43,
   "metadata": {
    "ExecuteTime": {
     "end_time": "2025-03-09T07:02:02.976285Z",
     "start_time": "2025-03-09T07:02:02.970686Z"
    }
   },
   "outputs": [],
   "source": [
    "import os\n",
    "import tempfile\n",
    "import numpy as np\n",
    "import pandas as pd\n",
    "import statsmodels.api as sm\n",
    "import matplotlib.pyplot as plt\n",
    "import pickle\n",
    "\n",
    "# Ensure reproducibility by setting a fixed seed value\n",
    "np.random.seed(42)\n",
    "\n",
    "# Generate temporary directories for file storage (analogous to R's tempdir and dir.create)\n",
    "pp_trial_path = os.path.join(tempfile.gettempdir(), \"pp_trial\")\n",
    "os.makedirs(pp_trial_path, exist_ok=True)\n",
    "\n",
    "itt_trial_path = os.path.join(tempfile.gettempdir(), \"itt_trial\")\n",
    "os.makedirs(itt_trial_path, exist_ok=True)"
   ]
  },
  {
   "cell_type": "markdown",
   "metadata": {},
   "source": [
    "## 2. Data Preparation\n",
    "A synthetic dataset is constructed to mirror the R dataset `data_censored`, containing:\n",
    "- Unique patient IDs and trial periods.\n",
    "- Treatment assignments.\n",
    "- Covariates (`x1`, `x2`, `x3`, `x4`, `age`, `age_s`).\n",
    "- Outcome indicators.\n",
    "- Censoring variables.\n",
    "- Eligibility criteria.\n",
    "\n",
    "Two datasets are then generated:\n",
    "- **Per-Protocol (PP) dataset:** Filters and renames columns for per-protocol analysis.\n",
    "- **Intention-to-Treat (ITT) dataset:** Preserves assigned treatments for ITT analysis."
   ]
  },
  {
   "cell_type": "code",
   "execution_count": 44,
   "metadata": {
    "ExecuteTime": {
     "end_time": "2025-03-09T07:02:03.001043Z",
     "start_time": "2025-03-09T07:02:02.983116Z"
    }
   },
   "outputs": [
    {
     "name": "stdout",
     "output_type": "stream",
     "text": [
      "Initial rows of censored_data:\n",
      "   id  period  treatment  x1        x2  x3        x4  age     age_s  outcome  \\\n",
      "0   1       0          1   1  1.146148   0  0.734203   36  0.083333        0   \n",
      "1   1       1          1   1  0.002200   0  0.734203   37  0.166667        0   \n",
      "2   1       2          1   0 -0.481762   0  0.734203   38  0.250000        0   \n",
      "3   1       3          1   0  0.007872   0  0.734203   39  0.333333        0   \n",
      "4   1       4          1   1  0.216054   0  0.734203   40  0.416667        0   \n",
      "\n",
      "   censored  eligible  \n",
      "0         0         1  \n",
      "1         0         0  \n",
      "2         0         0  \n",
      "3         0         0  \n",
      "4         0         0  \n",
      "\n",
      "Sample from per-protocol trial dataset:\n",
      "   id  period  treatment  x1        x2  x3        x4  age     age_s  outcome  \\\n",
      "0   1       0          1   1  1.146148   0  0.734203   36  0.083333        0   \n",
      "1   1       1          1   1  0.002200   0  0.734203   37  0.166667        0   \n",
      "2   1       2          1   0 -0.481762   0  0.734203   38  0.250000        0   \n",
      "3   1       3          1   0  0.007872   0  0.734203   39  0.333333        0   \n",
      "4   1       4          1   1  0.216054   0  0.734203   40  0.416667        0   \n",
      "\n",
      "   censored  eligible  \n",
      "0         0         1  \n",
      "1         0         0  \n",
      "2         0         0  \n",
      "3         0         0  \n",
      "4         0         0  \n",
      "\n",
      "Sample from ITT trial dataset:\n",
      "   id  period  treatment  x1        x2  x3        x4  age     age_s  outcome  \\\n",
      "0   1       0          1   1  1.146148   0  0.734203   36  0.083333        0   \n",
      "1   1       1          1   1  0.002200   0  0.734203   37  0.166667        0   \n",
      "2   1       2          1   0 -0.481762   0  0.734203   38  0.250000        0   \n",
      "3   1       3          1   0  0.007872   0  0.734203   39  0.333333        0   \n",
      "4   1       4          1   1  0.216054   0  0.734203   40  0.416667        0   \n",
      "\n",
      "   censored  eligible  \n",
      "0         0         1  \n",
      "1         0         0  \n",
      "2         0         0  \n",
      "3         0         0  \n",
      "4         0         0  \n"
     ]
    }
   ],
   "source": [
    "# Load the dataset from the specified file path\n",
    "censored_data = pd.read_csv('../data/data_censored.csv')\n",
    "\n",
    "# Display initial records\n",
    "print(\"Initial rows of censored_data:\")\n",
    "print(censored_data.head())\n",
    "\n",
    "# Utility function to emulate R's set_data functionality\n",
    "def configure_data(dataset, id_column, time_period, treatment_flag, result_var, is_eligible):\n",
    "    \"\"\"\n",
    "    Extracts the relevant columns from the dataset and assigns them standardized labels.\n",
    "    \"\"\"\n",
    "    structured_data = {\n",
    "        'data': dataset.copy(),\n",
    "        'id': id_column,\n",
    "        'period': time_period,\n",
    "        'treatment': treatment_flag,\n",
    "        'outcome': result_var,\n",
    "        'eligible': is_eligible\n",
    "    }\n",
    "    return structured_data\n",
    "\n",
    "# Generate datasets for per-protocol (PP) and intention-to-treat (ITT) trials\n",
    "pp_trial_data = configure_data(dataset=censored_data, id_column=\"id\", time_period=\"period\",\n",
    "                               treatment_flag=\"treatment\", result_var=\"outcome\", is_eligible=\"eligible\")\n",
    "\n",
    "itt_trial_data = configure_data(dataset=censored_data, id_column=\"id\", time_period=\"period\",\n",
    "                                treatment_flag=\"treatment\", result_var=\"outcome\", is_eligible=\"eligible\")\n",
    "\n",
    "# Output samples from each trial dataset\n",
    "print(\"\\nSample from per-protocol trial dataset:\")\n",
    "print(pp_trial_data['data'].head())\n",
    "\n",
    "print(\"\\nSample from ITT trial dataset:\")\n",
    "print(itt_trial_data['data'].head())"
   ]
  },
  {
   "cell_type": "markdown",
   "metadata": {},
   "source": [
    "## 3. Weight Computation and Censoring Adjustment"
   ]
  },
  {
   "cell_type": "markdown",
   "metadata": {},
   "source": [
    "### 3.1. Managing Treatment Switching\n",
    "To correct for bias, two logistic regression models are trained:\n",
    "- **Numerator model:** Predicts switching probability using age.\n",
    "- **Denominator model:** Predicts switching probability based on age, `x1`, and `x3`.\n",
    "\n",
    "The **stabilized weight** is calculated as a ratio of these probabilities, adjusting for treatment switching in PP analysis.\n"
   ]
  },
  {
   "cell_type": "code",
   "execution_count": 45,
   "metadata": {
    "ExecuteTime": {
     "end_time": "2025-03-09T07:02:03.074866Z",
     "start_time": "2025-03-09T07:02:03.052056Z"
    }
   },
   "outputs": [
    {
     "name": "stdout",
     "output_type": "stream",
     "text": [
      "\n",
      "Sample rows with computed switch weights (PP):\n",
      "   id  period  treatment  x1        x2  x3        x4  age     age_s  outcome  \\\n",
      "0   1       0          1   1  1.146148   0  0.734203   36  0.083333        0   \n",
      "1   1       1          1   1  0.002200   0  0.734203   37  0.166667        0   \n",
      "2   1       2          1   0 -0.481762   0  0.734203   38  0.250000        0   \n",
      "3   1       3          1   0  0.007872   0  0.734203   39  0.333333        0   \n",
      "4   1       4          1   1  0.216054   0  0.734203   40  0.416667        0   \n",
      "\n",
      "   censored  eligible  switch_weight  \n",
      "0         0         1       0.930088  \n",
      "1         0         0       0.928634  \n",
      "2         0         0       1.039459  \n",
      "3         0         0       1.040816  \n",
      "4         0         0       0.924292  \n"
     ]
    }
   ],
   "source": [
    "# Utility functions for logistic regression\n",
    "def train_logistic_model(features, target):\n",
    "    \"\"\"\n",
    "    Train a logistic regression model using statsmodels.\n",
    "    \"\"\"\n",
    "    features = sm.add_constant(features)\n",
    "    fitted_model = sm.Logit(target, features).fit(disp=False)\n",
    "    return fitted_model\n",
    "\n",
    "def compute_probabilities(fitted_model, features):\n",
    "    \"\"\"\n",
    "    Generate predicted probabilities from a logistic regression model.\n",
    "    \"\"\"\n",
    "    features = sm.add_constant(features)\n",
    "    return fitted_model.predict(features)\n",
    "\n",
    "def configure_switch_weight_model(dataset, num_expr, den_expr, model_trainer=train_logistic_model, storage_path=None):\n",
    "    \"\"\"\n",
    "    Constructs a switch weight model for adjusting treatment switching effects.\n",
    "    \"\"\"\n",
    "    # Process formulas\n",
    "    num_features = [col.strip() for col in num_expr.replace(\"~\", \"\").strip().split(\"+\")]\n",
    "    den_features = [col.strip() for col in den_expr.replace(\"~\", \"\").strip().split(\"+\")]\n",
    "\n",
    "    # Fit the numerator model: treatment ~ (numerator features)\n",
    "    X_numerator = dataset[num_features]\n",
    "    treatment_target = dataset[\"treatment\"]\n",
    "    numerator_model = model_trainer(X_numerator, treatment_target)\n",
    "\n",
    "    # Fit the denominator model: treatment ~ (denominator features)\n",
    "    X_denominator = dataset[den_features]\n",
    "    denominator_model = model_trainer(X_denominator, treatment_target)\n",
    "\n",
    "    # Compute probability estimates and derive stabilized weights\n",
    "    prob_numerator = compute_probabilities(numerator_model, X_numerator)\n",
    "    prob_denominator = compute_probabilities(denominator_model, X_denominator)\n",
    "\n",
    "    dataset = dataset.copy()\n",
    "    dataset[\"switch_weight\"] = prob_numerator / prob_denominator\n",
    "\n",
    "    # Save models if a storage path is provided\n",
    "    if storage_path is not None:\n",
    "        os.makedirs(storage_path, exist_ok=True)\n",
    "        with open(os.path.join(storage_path, \"switch_model_numerator.pkl\"), \"wb\") as file:\n",
    "            pickle.dump(numerator_model, file)\n",
    "        with open(os.path.join(storage_path, \"switch_model_denominator.pkl\"), \"wb\") as file:\n",
    "            pickle.dump(denominator_model, file)\n",
    "\n",
    "    return {\n",
    "        \"data\": dataset,\n",
    "        \"numerator_model\": numerator_model,\n",
    "        \"denominator_model\": denominator_model,\n",
    "        \"switch_weights\": dataset[\"switch_weight\"]\n",
    "    }\n",
    "\n",
    "# Execute switch weight model on the per-protocol dataset\n",
    "switch_analysis = configure_switch_weight_model(\n",
    "    dataset=pp_trial_data['data'],\n",
    "    num_expr=\"~ age\",\n",
    "    den_expr=\"~ age + x1 + x3\",\n",
    "    model_trainer=train_logistic_model,\n",
    "    storage_path=os.path.join(pp_trial_path, \"switch_models\")\n",
    ")\n",
    "pp_trial_data['data'] = switch_analysis[\"data\"]\n",
    "\n",
    "print(\"\\nSample rows with computed switch weights (PP):\")\n",
    "print(pp_trial_data['data'].head())"
   ]
  },
  {
   "cell_type": "markdown",
   "metadata": {},
   "source": [
    "### 3.2. Correcting for Informative Censoring\n",
    "Logistic regression models estimate the probability of remaining uncensored:\n",
    "- **Numerator model:** Uses `x2`.\n",
    "- **Denominator model:** Uses `x2` and `x1`."
   ]
  },
  {
   "cell_type": "code",
   "execution_count": 46,
   "metadata": {
    "ExecuteTime": {
     "end_time": "2025-03-09T07:02:03.118521Z",
     "start_time": "2025-03-09T07:02:03.080531Z"
    }
   },
   "outputs": [
    {
     "name": "stdout",
     "output_type": "stream",
     "text": [
      "Models saved at: C:\\Users\\jmrcn\\AppData\\Local\\Temp\\pp_trial\\censor_models\\censor_model_numerator.pkl and C:\\Users\\jmrcn\\AppData\\Local\\Temp\\pp_trial\\censor_models\\censor_model_denominator.pkl\n",
      "\n",
      "Sample rows with computed censor weights (PP):\n",
      "   id  period  treatment  x1        x2  x3        x4  age     age_s  outcome  \\\n",
      "0   1       0          1   1  1.146148   0  0.734203   36  0.083333        0   \n",
      "1   1       1          1   1  0.002200   0  0.734203   37  0.166667        0   \n",
      "2   1       2          1   0 -0.481762   0  0.734203   38  0.250000        0   \n",
      "3   1       3          1   0  0.007872   0  0.734203   39  0.333333        0   \n",
      "4   1       4          1   1  0.216054   0  0.734203   40  0.416667        0   \n",
      "\n",
      "   censored  eligible  switch_weight  uncensored  censor_weight  \n",
      "0         0         1       0.930088           1       0.955481  \n",
      "1         0         0       0.928634           1       0.970647  \n",
      "2         0         0       1.039459           1       1.016972  \n",
      "3         0         0       1.040816           1       1.021899  \n",
      "4         0         0       0.924292           1       0.968208  \n",
      "Models saved at: C:\\Users\\jmrcn\\AppData\\Local\\Temp\\itt_trial\\censor_models\\censor_model_numerator.pkl and C:\\Users\\jmrcn\\AppData\\Local\\Temp\\itt_trial\\censor_models\\censor_model_denominator.pkl\n",
      "\n",
      "Sample rows with computed censor weights (ITT):\n",
      "   id  period  treatment  x1        x2  x3        x4  age     age_s  outcome  \\\n",
      "0   1       0          1   1  1.146148   0  0.734203   36  0.083333        0   \n",
      "1   1       1          1   1  0.002200   0  0.734203   37  0.166667        0   \n",
      "2   1       2          1   0 -0.481762   0  0.734203   38  0.250000        0   \n",
      "3   1       3          1   0  0.007872   0  0.734203   39  0.333333        0   \n",
      "4   1       4          1   1  0.216054   0  0.734203   40  0.416667        0   \n",
      "\n",
      "   censored  eligible  uncensored  censor_weight  \n",
      "0         0         1           1       0.955481  \n",
      "1         0         0           1       0.970647  \n",
      "2         0         0           1       1.016972  \n",
      "3         0         0           1       1.021899  \n",
      "4         0         0           1       0.968208  \n"
     ]
    }
   ],
   "source": [
    "def configure_censor_weight_model(dataset, censor_flag, num_expr, den_expr, pooling_strategy=\"none\",\n",
    "                                  model_trainer=train_logistic_model, storage_path=None):\n",
    "    \"\"\"\n",
    "    Construct a censor weight model to handle informative censoring adjustments.\n",
    "    \"\"\"\n",
    "    dataset = dataset.copy()\n",
    "    # Define the inverse of censoring: 1 - censor_flag\n",
    "    dataset[\"uncensored\"] = 1 - dataset[censor_flag]\n",
    "\n",
    "    # Extract features for numerator and denominator models\n",
    "    num_features = [col.strip() for col in num_expr.replace(\"~\", \"\").strip().split(\"+\")]\n",
    "    den_features = [col.strip() for col in den_expr.replace(\"~\", \"\").strip().split(\"+\")]\n",
    "\n",
    "    # Train numerator model: uncensored ~ num_features\n",
    "    X_numerator = dataset[num_features]\n",
    "    target_uncensored = dataset[\"uncensored\"]\n",
    "    numerator_model = model_trainer(X_numerator, target_uncensored)\n",
    "\n",
    "    # Train denominator model: uncensored ~ den_features\n",
    "    X_denominator = dataset[den_features]\n",
    "    denominator_model = model_trainer(X_denominator, target_uncensored)\n",
    "\n",
    "    # Compute probability estimates and derive censoring weights\n",
    "    prob_numerator = compute_probabilities(numerator_model, X_numerator)\n",
    "    prob_denominator = compute_probabilities(denominator_model, X_denominator)\n",
    "\n",
    "    dataset[\"censor_weight\"] = prob_numerator / prob_denominator\n",
    "\n",
    "    # Save models if a storage directory is provided\n",
    "    if storage_path is not None:\n",
    "        os.makedirs(storage_path, exist_ok=True)\n",
    "        numerator_path = os.path.join(storage_path, \"censor_model_numerator.pkl\")\n",
    "        denominator_path = os.path.join(storage_path, \"censor_model_denominator.pkl\")\n",
    "        with open(numerator_path, \"wb\") as file:\n",
    "            pickle.dump(numerator_model, file)\n",
    "        with open(denominator_path, \"wb\") as file:\n",
    "            pickle.dump(denominator_model, file)\n",
    "        print(f\"Models saved at: {numerator_path} and {denominator_path}\")\n",
    "\n",
    "    return {\n",
    "        \"data\": dataset,\n",
    "        \"numerator_model\": numerator_model,\n",
    "        \"denominator_model\": denominator_model,\n",
    "        \"censor_weights\": dataset[\"censor_weight\"]\n",
    "    }\n",
    "\n",
    "# Apply censor weight model to per-protocol dataset without pooling\n",
    "censor_analysis_pp = configure_censor_weight_model(\n",
    "    dataset=pp_trial_data['data'],\n",
    "    censor_flag=\"censored\",\n",
    "    num_expr=\"~ x2\",\n",
    "    den_expr=\"~ x2 + x1\",\n",
    "    pooling_strategy=\"none\",\n",
    "    model_trainer=train_logistic_model,\n",
    "    storage_path=os.path.join(pp_trial_path, \"censor_models\")\n",
    ")\n",
    "pp_trial_data['data'] = censor_analysis_pp[\"data\"]\n",
    "\n",
    "print(\"\\nSample rows with computed censor weights (PP):\")\n",
    "print(pp_trial_data['data'].head())\n",
    "\n",
    "# Apply censor weight model to ITT dataset with numerator pooling\n",
    "censor_analysis_itt = configure_censor_weight_model(\n",
    "    dataset=itt_trial_data['data'],\n",
    "    censor_flag=\"censored\",\n",
    "    num_expr=\"~ x2\",\n",
    "    den_expr=\"~ x2 + x1\",\n",
    "    pooling_strategy=\"numerator\",\n",
    "    model_trainer=train_logistic_model,\n",
    "    storage_path=os.path.join(itt_trial_path, \"censor_models\")\n",
    ")\n",
    "itt_trial_data['data'] = censor_analysis_itt[\"data\"]\n",
    "\n",
    "print(\"\\nSample rows with computed censor weights (ITT):\")\n",
    "print(itt_trial_data['data'].head())"
   ]
  },
  {
   "cell_type": "markdown",
   "metadata": {},
   "source": [
    "## 4. Weight Application\n",
    "- **Per-Protocol (PP):** The final weight is the product of the treatment switch weight and the censoring weight.\n",
    "- **Intention-to-Treat (ITT):** Uses only the censoring weight.\n"
   ]
  },
  {
   "cell_type": "code",
   "execution_count": 47,
   "metadata": {
    "ExecuteTime": {
     "end_time": "2025-03-09T07:02:03.159737Z",
     "start_time": "2025-03-09T07:02:03.149325Z"
    }
   },
   "outputs": [
    {
     "name": "stdout",
     "output_type": "stream",
     "text": [
      "\n",
      "Preview of computed PP weights:\n",
      "   id  final_PP_weight\n",
      "0   1         0.888682\n",
      "1   1         0.901376\n",
      "2   1         1.057101\n",
      "3   1         1.063608\n",
      "4   1         0.894907\n",
      "\n",
      "Preview of computed ITT weights:\n",
      "   id  final_ITT_weight\n",
      "0   1          0.955481\n",
      "1   1          0.970647\n",
      "2   1          1.016972\n",
      "3   1          1.021899\n",
      "4   1          0.968208\n"
     ]
    }
   ],
   "source": [
    "# Compute final weights for Per-Protocol (PP) group by multiplying switch and censor weights\n",
    "pp_trial_data['data'][\"final_PP_weight\"] = pp_trial_data['data'][\"switch_weight\"] * pp_trial_data['data'][\"censor_weight\"]\n",
    "\n",
    "# For Intention-To-Treat (ITT) group, the final weight is simply the censor weight\n",
    "itt_trial_data['data'][\"final_ITT_weight\"] = itt_trial_data['data'][\"censor_weight\"]\n",
    "\n",
    "print(\"\\nPreview of computed PP weights:\")\n",
    "print(pp_trial_data['data'][[\"id\", \"final_PP_weight\"]].head())\n",
    "\n",
    "print(\"\\nPreview of computed ITT weights:\")\n",
    "print(itt_trial_data['data'][[\"id\", \"final_ITT_weight\"]].head())"
   ]
  },
  {
   "cell_type": "markdown",
   "metadata": {},
   "source": [
    "## 5. Outcome Model Specification\n",
    "The outcome model is structured as:\n",
    "```python\n",
    "outcome ~ assigned_treatment + x2 + followup_time + (followup_time)^2 + trial_period + (trial_period)^2"
   ]
  },
  {
   "cell_type": "code",
   "execution_count": 48,
   "metadata": {
    "ExecuteTime": {
     "end_time": "2025-03-09T07:02:03.195490Z",
     "start_time": "2025-03-09T07:02:03.190272Z"
    }
   },
   "outputs": [],
   "source": [
    "def define_outcome_model(input_data, extra_adjustments=None):\n",
    "    \"\"\"\n",
    "    Placeholder function to represent outcome model specification.\n",
    "\n",
    "    Parameters:\n",
    "        input_data (DataFrame): Dataset being processed.\n",
    "        extra_adjustments (str, optional): String representing additional adjustment variables.\n",
    "\n",
    "    Returns:\n",
    "        DataFrame: Modified dataset with an 'adjustment_factors' column.\n",
    "    \"\"\"\n",
    "    updated_data = input_data.copy()\n",
    "    updated_data[\"adjustment_factors\"] = extra_adjustments if extra_adjustments is not None else \"\"\n",
    "    return updated_data\n",
    "\n",
    "# Apply outcome model for Per-Protocol (PP) without extra adjustments\n",
    "pp_trial_data['data'] = define_outcome_model(pp_trial_data['data'])\n",
    "\n",
    "# Apply outcome model for Intention-To-Treat (ITT) with an additional adjustment variable (\"x2\")\n",
    "itt_trial_data['data'] = define_outcome_model(itt_trial_data['data'], extra_adjustments=\"x2\")\n"
   ]
  },
  {
   "cell_type": "markdown",
   "metadata": {},
   "source": [
    "## 6. Expanding Trial Periods\n",
    "\n",
    "Patient baseline data is expanded into multiple trial periods (e.g., 0 to 7), forming structured trial datasets. A followup_time column is introduced to track progression."
   ]
  },
  {
   "cell_type": "code",
   "execution_count": 49,
   "metadata": {
    "ExecuteTime": {
     "end_time": "2025-03-09T07:02:03.259337Z",
     "start_time": "2025-03-09T07:02:03.228021Z"
    }
   },
   "outputs": [
    {
     "name": "stdout",
     "output_type": "stream",
     "text": [
      "\n",
      "Preview of expanded PP dataset:\n",
      "   id  period  treatment  x1        x2  x3        x4  age     age_s  outcome  \\\n",
      "0   1       0          1   1  1.146148   0  0.734203   36  0.083333        0   \n",
      "1   1       0          1   1  1.146148   0  0.734203   36  0.083333        0   \n",
      "2   1       0          1   1  1.146148   0  0.734203   36  0.083333        0   \n",
      "3   1       0          1   1  1.146148   0  0.734203   36  0.083333        0   \n",
      "4   1       0          1   1  1.146148   0  0.734203   36  0.083333        0   \n",
      "\n",
      "   censored  eligible  switch_weight  uncensored  censor_weight  \\\n",
      "0         0         1       0.930088           1       0.955481   \n",
      "1         0         1       0.930088           1       0.955481   \n",
      "2         0         1       0.930088           1       0.955481   \n",
      "3         0         1       0.930088           1       0.955481   \n",
      "4         0         1       0.930088           1       0.955481   \n",
      "\n",
      "   final_PP_weight adjustment_factors  study_phase  time_followed  \n",
      "0         0.888682                               0              0  \n",
      "1         0.888682                               1              1  \n",
      "2         0.888682                               2              2  \n",
      "3         0.888682                               3              3  \n",
      "4         0.888682                               4              4  \n",
      "\n",
      "Preview of expanded ITT dataset:\n",
      "   id  period  treatment  x1        x2  x3        x4  age     age_s  outcome  \\\n",
      "0   1       0          1   1  1.146148   0  0.734203   36  0.083333        0   \n",
      "1   1       0          1   1  1.146148   0  0.734203   36  0.083333        0   \n",
      "2   1       0          1   1  1.146148   0  0.734203   36  0.083333        0   \n",
      "3   1       0          1   1  1.146148   0  0.734203   36  0.083333        0   \n",
      "4   1       0          1   1  1.146148   0  0.734203   36  0.083333        0   \n",
      "\n",
      "   censored  eligible  uncensored  censor_weight  final_ITT_weight  \\\n",
      "0         0         1           1       0.955481          0.955481   \n",
      "1         0         1           1       0.955481          0.955481   \n",
      "2         0         1           1       0.955481          0.955481   \n",
      "3         0         1           1       0.955481          0.955481   \n",
      "4         0         1           1       0.955481          0.955481   \n",
      "\n",
      "  adjustment_factors  study_phase  time_followed  \n",
      "0                 x2            0              0  \n",
      "1                 x2            1              1  \n",
      "2                 x2            2              2  \n",
      "3                 x2            3              3  \n",
      "4                 x2            4              4  \n"
     ]
    }
   ],
   "source": [
    "def generate_trial_expansion(input_data, batch_size=500, start_period=0, end_period=None):\n",
    "    \"\"\"\n",
    "    Expand baseline dataset into multiple time periods for trial analysis.\n",
    "\n",
    "    Parameters:\n",
    "        input_data (DataFrame): Initial dataset.\n",
    "        batch_size (int): Number of subjects per segment (not used in this basic example).\n",
    "        start_period (int): Beginning of the trial period.\n",
    "        end_period (int, optional): Final trial period; defaults to start_period + 7 if not provided.\n",
    "\n",
    "    Returns:\n",
    "        DataFrame: Expanded dataset including 'study_phase' and 'time_followed'.\n",
    "    \"\"\"\n",
    "    if end_period is None:\n",
    "        end_period = start_period + 7  # Default range from 0 to 7\n",
    "\n",
    "    expanded_data = []\n",
    "    for subject_id, subset in input_data.groupby(\"id\"):\n",
    "        baseline_record = subset.iloc[0].to_dict()\n",
    "        for current_phase in range(start_period, end_period + 1):\n",
    "            modified_entry = baseline_record.copy()\n",
    "            modified_entry[\"study_phase\"] = current_phase\n",
    "            modified_entry[\"time_followed\"] = current_phase\n",
    "            expanded_data.append(modified_entry)\n",
    "\n",
    "    return pd.DataFrame(expanded_data)\n",
    "\n",
    "# Apply expansion function to PP and ITT datasets\n",
    "pp_trial_extended = generate_trial_expansion(pp_trial_data['data'], batch_size=500)\n",
    "itt_trial_extended = generate_trial_expansion(itt_trial_data['data'], batch_size=500)\n",
    "\n",
    "print(\"\\nPreview of expanded PP dataset:\")\n",
    "print(pp_trial_extended.head())\n",
    "\n",
    "print(\"\\nPreview of expanded ITT dataset:\")\n",
    "print(itt_trial_extended.head())"
   ]
  },
  {
   "cell_type": "markdown",
   "metadata": {},
   "source": [
    "## 7. Data Sampling (ITT Analysis)\n",
    "\n",
    "For efficiency, non-event cases (outcome == 0) are downsampled by 50%, while all event cases (outcome == 1) are retained."
   ]
  },
  {
   "cell_type": "code",
   "execution_count": 50,
   "metadata": {
    "ExecuteTime": {
     "end_time": "2025-03-09T07:02:03.295776Z",
     "start_time": "2025-03-09T07:02:03.288590Z"
    }
   },
   "outputs": [
    {
     "name": "stdout",
     "output_type": "stream",
     "text": [
      "\n",
      "Total observations in the sampled ITT dataset: 364\n"
     ]
    }
   ],
   "source": [
    "def extract_sampled_data(expanded_dataset, random_seed=1234, non_event_fraction=0.5):\n",
    "    \"\"\"\n",
    "    Select a subset from the expanded dataset by retaining all event occurrences\n",
    "    and randomly sampling a portion of non-events.\n",
    "    \"\"\"\n",
    "    np.random.seed(random_seed)\n",
    "    \n",
    "    # Retain all records where the outcome occurred\n",
    "    event_cases = expanded_dataset[expanded_dataset[\"outcome\"] == 1]\n",
    "    \n",
    "    # Randomly sample a fraction of the non-event records\n",
    "    non_event_cases = expanded_dataset[expanded_dataset[\"outcome\"] == 0].sample(\n",
    "        frac=non_event_fraction, random_state=random_seed\n",
    "    )\n",
    "\n",
    "    # Merge both event and non-event subsets\n",
    "    return pd.concat([event_cases, non_event_cases], ignore_index=True)\n",
    "\n",
    "# Apply sampling to ITT expanded dataset\n",
    "itt_trial_sampled = extract_sampled_data(itt_trial_extended, random_seed=1234, non_event_fraction=0.5)\n",
    "\n",
    "print(\"\\nTotal observations in the sampled ITT dataset:\", itt_trial_sampled.shape[0])"
   ]
  },
  {
   "cell_type": "markdown",
   "metadata": {},
   "source": [
    "## 8. Marginal Structural Model (MSM) Estimation\n",
    "\n",
    "- A weighted logistic regression model (MSM) is trained with these adjustments:\n",
    "\n",
    "- Assigning observed treatments (assigned_treatment).\n",
    "\n",
    "- Including quadratic terms for followup_time and trial_period.\n",
    "\n",
    "- Integrating ITT weights (computed per patient).\n",
    "\n",
    "- Winsorizing extreme weights (capping at the 99th percentile).\n",
    "\n",
    "- Fitting the model using statsmodels.GLM."
   ]
  },
  {
   "cell_type": "code",
   "execution_count": 52,
   "metadata": {
    "ExecuteTime": {
     "end_time": "2025-03-09T07:02:03.380807Z",
     "start_time": "2025-03-09T07:02:03.335455Z"
    }
   },
   "outputs": [
    {
     "name": "stdout",
     "output_type": "stream",
     "text": [
      "\n",
      "Marginal Structural Model (MSM) Output:\n",
      "                 Generalized Linear Model Regression Results                  \n",
      "==============================================================================\n",
      "Dep. Variable:                outcome   No. Observations:                44690\n",
      "Model:                            GLM   Df Residuals:                 44712.00\n",
      "Model Family:                Binomial   Df Model:                            4\n",
      "Link Function:                  Logit   Scale:                          1.0000\n",
      "Method:                          IRLS   Log-Likelihood:                    nan\n",
      "Date:                Mon, 10 Mar 2025   Deviance:                       1440.9\n",
      "Time:                        00:44:50   Pearson chi2:                 7.05e+16\n",
      "No. Iterations:                    10   Pseudo R-squ. (CS):                nan\n",
      "Covariance Type:            nonrobust                                         \n",
      "=======================================================================================\n",
      "                          coef    std err          z      P>|z|      [0.025      0.975]\n",
      "---------------------------------------------------------------------------------------\n",
      "const               -3.799e+15   8.17e+05  -4.65e+09      0.000    -3.8e+15    -3.8e+15\n",
      "allocated_treatment  4.191e+14   6.37e+05   6.58e+08      0.000    4.19e+14    4.19e+14\n",
      "x2                  -3.302e+14   3.87e+05  -8.52e+08      0.000    -3.3e+14    -3.3e+14\n",
      "time_followed        1.516e+14   2.57e+05   5.89e+08      0.000    1.52e+14    1.52e+14\n",
      "time_followup_sq    -1.123e+13   3.56e+04  -3.16e+08      0.000   -1.12e+13   -1.12e+13\n",
      "study_phase          1.516e+14   2.57e+05   5.89e+08      0.000    1.52e+14    1.52e+14\n",
      "time_trial_sq       -1.123e+13   3.56e+04  -3.16e+08      0.000   -1.12e+13   -1.12e+13\n",
      "=======================================================================================\n"
     ]
    },
    {
     "name": "stderr",
     "output_type": "stream",
     "text": [
      "c:\\Users\\jmrcn\\Clones\\TTE_INSIGHTING\\.venv\\Lib\\site-packages\\statsmodels\\genmod\\families\\links.py:198: RuntimeWarning: overflow encountered in exp\n",
      "  t = np.exp(-z)\n",
      "c:\\Users\\jmrcn\\Clones\\TTE_INSIGHTING\\.venv\\Lib\\site-packages\\statsmodels\\genmod\\families\\family.py:1056: RuntimeWarning: divide by zero encountered in log\n",
      "  special.gammaln(n - y + 1) + y * np.log(mu / (1 - mu + 1e-20)) +\n",
      "c:\\Users\\jmrcn\\Clones\\TTE_INSIGHTING\\.venv\\Lib\\site-packages\\statsmodels\\genmod\\families\\family.py:1056: RuntimeWarning: invalid value encountered in multiply\n",
      "  special.gammaln(n - y + 1) + y * np.log(mu / (1 - mu + 1e-20)) +\n"
     ]
    }
   ],
   "source": [
    "# Prepare ITT dataset for modeling outcomes\n",
    "itt_trial_sampled = itt_trial_sampled.copy()\n",
    "itt_trial_sampled[\"allocated_treatment\"] = itt_trial_sampled[\"treatment\"]\n",
    "itt_trial_sampled[\"time_followup_sq\"] = itt_trial_sampled[\"time_followed\"] ** 2\n",
    "itt_trial_sampled[\"time_trial_sq\"] = itt_trial_sampled[\"study_phase\"] ** 2\n",
    "\n",
    "# Retrieve ITT weights from the original dataset (ensuring one per individual)\n",
    "weight_data = itt_trial_data['data'][[\"id\", \"final_ITT_weight\"]].drop_duplicates()\n",
    "itt_trial_sampled = itt_trial_sampled.merge(weight_data, on=\"id\", how=\"left\")\n",
    "\n",
    "# Apply winsorization: limit extreme weight values at the 99th percentile\n",
    "weight_threshold = itt_trial_sampled[\"final_ITT_weight\"].quantile(0.99)\n",
    "itt_trial_sampled[\"capped_weight\"] = np.minimum(itt_trial_sampled[\"final_ITT_weight\"], weight_threshold)\n",
    "\n",
    "# Define model predictors per outcome modeling framework:\n",
    "# outcome ~ allocated_treatment + x2 + followup_time + followup_time^2 + trial_period + trial_period^2\n",
    "model_features = [\"allocated_treatment\", \"x2\", \"time_followed\", \"time_followup_sq\", \"study_phase\", \"time_trial_sq\"]\n",
    "X_model = itt_trial_sampled[model_features]\n",
    "X_model = sm.add_constant(X_model)\n",
    "y_outcome = itt_trial_sampled[\"outcome\"]\n",
    "\n",
    "# Fit the weighted logistic regression model (Marginal Structural Model - MSM)\n",
    "msm_fit = sm.GLM(y_outcome, X_model, family=sm.families.Binomial(), freq_weights=itt_trial_sampled[\"capped_weight\"]).fit()\n",
    "\n",
    "print(\"\\nMarginal Structural Model (MSM) Output:\")\n",
    "print(msm_fit.summary())"
   ]
  },
  {
   "cell_type": "markdown",
   "metadata": {},
   "source": [
    "## 9. Survival Probability Estimation and Visualization\n",
    "The trained MSM generates survival probability estimates across follow-up time (0–10). Two groups are compared:\n",
    "1. **Control group:** `assigned_treatment = 0`\n",
    "2. **Treated group:** `assigned_treatment = 1`\n",
    "\n",
    "Survival probabilities are calculated as:\n",
    "```python\n",
    "survival_prob = 1 - predicted_risk\n"
   ]
  },
  {
   "cell_type": "code",
   "execution_count": 53,
   "metadata": {
    "ExecuteTime": {
     "end_time": "2025-03-09T07:02:03.624436Z",
     "start_time": "2025-03-09T07:02:03.470396Z"
    }
   },
   "outputs": [
    {
     "name": "stderr",
     "output_type": "stream",
     "text": [
      "c:\\Users\\jmrcn\\Clones\\TTE_INSIGHTING\\.venv\\Lib\\site-packages\\statsmodels\\genmod\\families\\links.py:198: RuntimeWarning: overflow encountered in exp\n",
      "  t = np.exp(-z)\n"
     ]
    },
    {
     "data": {
      "image/png": "[encoded data removed]",
      "text/plain": [
       "<Figure size 800x500 with 1 Axes>"
      ]
     },
     "metadata": {},
     "output_type": "display_data"
    }
   ],
   "source": [
    "# Define prediction follow-up times from 0 to 10\n",
    "predict_times = np.arange(0, 11)\n",
    "x2_mean = itt_trial_sampled[\"x2\"].mean()  # Use the sampled ITT dataset for mean calculation\n",
    "\n",
    "# Create prediction dataset for control (allocated_treatment = 0)\n",
    "new_data_0 = pd.DataFrame({\n",
    "    \"const\": 1,\n",
    "    \"allocated_treatment\": 0,  # Use \"allocated_treatment\" as defined in snippet 9\n",
    "    \"x2\": x2_mean,\n",
    "    \"time_followed\": predict_times,  # Use \"time_followed\" as defined in snippet 9\n",
    "    \"time_followup_sq\": predict_times**2,  # Use \"time_followup_sq\" as defined in snippet 9\n",
    "    \"study_phase\": 1,  # Use \"study_phase\" as defined in snippet 9\n",
    "    \"time_trial_sq\": np.ones_like(predict_times)  # Use \"time_trial_sq\" as defined in snippet 9\n",
    "})\n",
    "\n",
    "# Create prediction dataset for treated (allocated_treatment = 1)\n",
    "new_data_1 = new_data_0.copy()\n",
    "new_data_1[\"allocated_treatment\"] = 1\n",
    "\n",
    "# Generate predicted risk probabilities using the fitted MSM model\n",
    "pred_0 = msm_fit.predict(new_data_0)  # Use the fitted MSM model from snippet 9\n",
    "pred_1 = msm_fit.predict(new_data_1)\n",
    "\n",
    "# Convert risk to survival probability: survival = 1 - risk\n",
    "surv_0 = 1 - pred_0\n",
    "surv_1 = 1 - pred_1\n",
    "\n",
    "# Compute survival difference: treated minus control\n",
    "surv_diff = surv_1 - surv_0\n",
    "\n",
    "# For illustration, assume simple confidence intervals (±0.05)\n",
    "ci_lower = surv_diff - 0.05\n",
    "ci_upper = surv_diff + 0.05\n",
    "\n",
    "# Plot survival difference over follow-up time\n",
    "plt.figure(figsize=(8, 5))\n",
    "plt.plot(predict_times, surv_diff, label=\"Treatment Effect (Treated vs Control)\", color=\"purple\", linewidth=2)  # Changed to purple\n",
    "plt.plot(predict_times, ci_lower, label=\"Cl (2.5%)\", linestyle=\"--\", color=\"green\")  # Changed to green\n",
    "plt.plot(predict_times, ci_upper, label=\"Cl (97.5%)\", linestyle=\"--\", color=\"green\")  # Changed to green\n",
    "plt.xlabel(\"Follow-up Time\")\n",
    "plt.ylabel(\"Difference in Survival Probability\")\n",
    "plt.title(\"Treatment Effect on Survival Over Time\")\n",
    "plt.legend()\n",
    "plt.grid(True)\n",
    "plt.show()"
   ]
  },
  {
   "cell_type": "markdown",
   "metadata": {},
   "source": [
    "---\n",
    "\n",
    "# Insights from Survival Difference Analysis\n",
    "\n",
    "## 1. Interpretation of Negative Survival Difference\n",
    "- A survival difference **below zero** suggests the treated group has a lower survival probability than the control group.\n",
    "- The estimated effect (~ -0.08) indicates an **8% lower survival probability** in the treated group.\n",
    "- Confidence intervals remain **below zero**, reinforcing this conclusion.\n",
    "\n",
    "## 2. Consistency Over Time\n",
    "- The survival curve is relatively **flat**, signifying a **stable treatment effect** over time.\n",
    "- The **narrow confidence bands** indicate reliable estimation with minimal uncertainty.\n",
    "\n",
    "## 3. Possible Explanations for Negative Effects\n",
    "\n",
    "- Residual confounding: If adjustments are inadequate, confounders may skew results.\n",
    "- Adverse treatment effects: The treatment itself may have a negative impact.\n",
    "- Bias in data: Selection bias, missing data, or unstable weights could distort estimates.\n",
    "\n",
    "## 4. Suggestions for Further Investigation\n",
    "\n",
    "- **Refine** models: Reassess covariate selection and weight stability.\n",
    "- **Conduct** sensitivity analyses: Explore alternative modeling strategies.\n",
    "- **Examine** subgroups: Determine if effects vary across different patient populations.\n",
    "\n"
   ]
  }
 ],
 "metadata": {
  "kernelspec": {
   "display_name": ".venv",
   "language": "python",
   "name": "python3"
  },
  "language_info": {
   "codemirror_mode": {
    "name": "ipython",
    "version": 3
   },
   "file_extension": ".py",
   "mimetype": "text/x-python",
   "name": "python",
   "nbconvert_exporter": "python",
   "pygments_lexer": "ipython3",
   "version": "3.13.2"
  }
 },
 "nbformat": 4,
 "nbformat_minor": 2
}
