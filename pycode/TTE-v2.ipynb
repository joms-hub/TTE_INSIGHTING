{
 "cells": [
  {
   "cell_type": "markdown",
   "metadata": {},
   "source": [
    "# TTE_R_TO_PYTHON\n",
    "\n",
    "- Jomar Cunado\n",
    "- January Venice Toledo"
   ]
  },
  {
   "cell_type": "markdown",
   "metadata": {},
   "source": [
    "# Target Trial Emulation - R Code to Python"
   ]
  },
  {
   "cell_type": "markdown",
   "metadata": {},
<<<<<<< HEAD
=======
   "source": [
    "# Target Trial Emulation: Translating R Code to Python"
   ]
  },
  {
   "cell_type": "markdown",
   "metadata": {},
>>>>>>> 23560305a2629b26bdb3f870eb37f8ecb8935be0
   "source": [
    "# Overview\n",
    "This Jupyter Notebook presents a Target Trial Emulation (TTE) framework, a method in epidemiology and causal inference used to mimic a randomized controlled trial (RCT) with observational data. The workflow incorporates Intention-to-Treat (ITT) and Per-Protocol (PP) analyses, addressing treatment changes and censoring through logistic regression. Finally, causal effects are estimated via Marginal Structural Models (MSM), with survival differences visualized.\n",
    "\n",
    "This implementation translates an R-based Target Trial Emulation into Python, utilizing `pandas`, `numpy`, `statsmodels`, and `lifelines` for survival analysis.\n",
    "\n",
    "---\n",
    "\n",
    "# Introduction\n",
    "Target Trial Emulation (TTE) provides a structured approach to analyzing observational data as if it were part of an RCT. It is widely applied in epidemiology and causal inference to estimate treatment effects while mitigating bias.\n",
    "\n",
    "This notebook follows a TTE process in Python by:\n",
    "- Establishing estimands: Intention-to-Treat (ITT) and Per-Protocol (PP) analyses.\n",
    "- Structuring data: Identifying treatment allocations, outcomes, and eligibility criteria.\n",
    "- Handling censoring: Applying Inverse Probability of Censoring Weights (IPCW) to adjust for treatment switching and informative censoring.\n",
    "- Expanding datasets: Organizing observational data into sequential trial periods.\n",
    "- Estimating causal effects: Implementing Marginal Structural Models (MSM).\n",
    "- Visualizing survival outcomes: Analyzing treatment impact over time.\n",
    "\n",
    "---\n",
    "\n",
    "# Workflow Steps"
   ]
  },
  {
   "cell_type": "markdown",
   "metadata": {},
   "source": [
    "## 1. Setup\n",
    "Required libraries are imported, a random seed is set for reproducibility, and temporary directories are created for file storage (e.g., model outputs). This aligns with the R script, where directories `pp_trial_path` and `itt_trial_path` are initialized.\n"
   ]
  },
  {
   "cell_type": "code",
<<<<<<< HEAD
   "execution_count": 21,
=======
   "execution_count": 51,
>>>>>>> 23560305a2629b26bdb3f870eb37f8ecb8935be0
   "metadata": {
    "ExecuteTime": {
     "end_time": "2025-03-09T07:02:02.976285Z",
     "start_time": "2025-03-09T07:02:02.970686Z"
    }
   },
   "outputs": [],
   "source": [
    "import os\n",
    "import tempfile\n",
    "import numpy as np\n",
    "import pandas as pd\n",
    "import statsmodels.api as sm\n",
    "import matplotlib.pyplot as plt\n",
    "import pickle\n",
    "\n",
    "# Ensure reproducibility by setting a fixed seed value\n",
    "np.random.seed(42)\n",
    "\n",
    "# Generate temporary directories for file storage (analogous to R's tempdir and dir.create)\n",
    "pp_trial_path = os.path.join(tempfile.gettempdir(), \"pp_trial\")\n",
    "os.makedirs(pp_trial_path, exist_ok=True)\n",
    "\n",
<<<<<<< HEAD
    "itt_trial_path = os.path.join(tempfile.gettempdir(), \"itt_trial\")\n",
    "os.makedirs(itt_trial_path, exist_ok=True)"
   ]
  },
  {
   "cell_type": "markdown",
   "metadata": {},
   "source": [
    "## 2. Data Preparation\n",
    "A synthetic dataset is constructed to mirror the R dataset `data_censored`, containing:\n",
    "- Unique patient IDs and trial periods.\n",
    "- Treatment assignments.\n",
    "- Covariates (`x1`, `x2`, `x3`, `x4`, `age`, `age_s`).\n",
    "- Outcome indicators.\n",
    "- Censoring variables.\n",
    "- Eligibility criteria.\n",
    "\n",
    "Two datasets are then generated:\n",
    "- **Per-Protocol (PP) dataset:** Filters and renames columns for per-protocol analysis.\n",
    "- **Intention-to-Treat (ITT) dataset:** Preserves assigned treatments for ITT analysis."
   ]
  },
  {
   "cell_type": "code",
   "execution_count": 22,
=======
    "trial_itt_dir = os.path.join(tempfile.gettempdir(), \"trial_itt\")\n",
    "os.makedirs(trial_itt_dir, exist_ok=True)"
   ]
  },
  {
   "cell_type": "markdown",
   "metadata": {},
   "source": [
    "## 2. Data Preparation\n",
    "We simulate a dummy dataset similar to the data_censored dataset in the R code. The dataset includes columns for patient ID, period, treatment, several covariates (x1, x2, x3, x4, age, age_s), outcome, censoring indicator, and eligibility. Then, we create two trial sequence datasets: one for per‑protocol (PP) and one for intention‑to‑treat (ITT) by selecting and renaming the required columns.\n",
    "\n"
   ]
  },
  {
   "cell_type": "code",
   "execution_count": 52,
>>>>>>> 23560305a2629b26bdb3f870eb37f8ecb8935be0
   "metadata": {
    "ExecuteTime": {
     "end_time": "2025-03-09T07:02:03.001043Z",
     "start_time": "2025-03-09T07:02:02.983116Z"
    }
   },
   "outputs": [
    {
     "name": "stdout",
     "output_type": "stream",
     "text": [
      "Initial rows of censored_data:\n",
      "   id  period  treatment  x1        x2  x3        x4  age     age_s  outcome  \\\n",
      "0   1       0          1   1  1.146148   0  0.734203   36  0.083333        0   \n",
      "1   1       1          1   1  0.002200   0  0.734203   37  0.166667        0   \n",
      "2   1       2          1   0 -0.481762   0  0.734203   38  0.250000        0   \n",
      "3   1       3          1   0  0.007872   0  0.734203   39  0.333333        0   \n",
      "4   1       4          1   1  0.216054   0  0.734203   40  0.416667        0   \n",
      "\n",
      "   censored  eligible  \n",
      "0         0         1  \n",
      "1         0         0  \n",
      "2         0         0  \n",
      "3         0         0  \n",
      "4         0         0  \n",
      "\n",
      "Sample from per-protocol trial dataset:\n",
      "   id  period  treatment  x1        x2  x3        x4  age     age_s  outcome  \\\n",
      "0   1       0          1   1  1.146148   0  0.734203   36  0.083333        0   \n",
      "1   1       1          1   1  0.002200   0  0.734203   37  0.166667        0   \n",
      "2   1       2          1   0 -0.481762   0  0.734203   38  0.250000        0   \n",
      "3   1       3          1   0  0.007872   0  0.734203   39  0.333333        0   \n",
      "4   1       4          1   1  0.216054   0  0.734203   40  0.416667        0   \n",
      "\n",
      "   censored  eligible  \n",
      "0         0         1  \n",
      "1         0         0  \n",
      "2         0         0  \n",
      "3         0         0  \n",
      "4         0         0  \n",
      "\n",
      "Sample from ITT trial dataset:\n",
      "   id  period  treatment  x1        x2  x3        x4  age     age_s  outcome  \\\n",
      "0   1       0          1   1  1.146148   0  0.734203   36  0.083333        0   \n",
      "1   1       1          1   1  0.002200   0  0.734203   37  0.166667        0   \n",
      "2   1       2          1   0 -0.481762   0  0.734203   38  0.250000        0   \n",
      "3   1       3          1   0  0.007872   0  0.734203   39  0.333333        0   \n",
      "4   1       4          1   1  0.216054   0  0.734203   40  0.416667        0   \n",
      "\n",
      "   censored  eligible  \n",
      "0         0         1  \n",
      "1         0         0  \n",
      "2         0         0  \n",
      "3         0         0  \n",
      "4         0         0  \n"
     ]
    }
   ],
<<<<<<< HEAD
   "source": [
    "# Load the dataset from the specified file path\n",
    "censored_data = pd.read_csv('../data/data_censored.csv')\n",
=======
   "source": [
    "data_censored = pd.read_csv('../data/data_censored.csv')\n",
    "print(\"First few rows of data_censored:\")\n",
    "print(data_censored.head())\n",
    "\n",
    "# Define helper function to mimic R's set_data\n",
    "def set_data(data, id_col, period, treatment, outcome, eligible):\n",
    "    df = dict()\n",
    "    df['data'] = data.copy()\n",
    "    df['id'] = id_col\n",
    "    df['period'] = period\n",
    "    df['treatment'] = treatment\n",
    "    df['outcome'] = outcome\n",
    "    df['eligible'] = eligible\n",
    "    return df\n",
    "\n",
    "# Create trial data for per-protocol (PP) and ITT\n",
    "trial_pp = set_data(data=data_censored, id_col=\"id\", period=\"period\",\n",
    "                    treatment=\"treatment\", outcome=\"outcome\", eligible=\"eligible\")\n",
    "trial_itt = set_data(data=data_censored, id_col=\"id\", period=\"period\",\n",
    "                     treatment=\"treatment\", outcome=\"outcome\", eligible=\"eligible\")\n",
    "\n",
    "print(\"\\nPer-protocol trial data:\")\n",
    "print(trial_pp['data'].head())\n",
    "print(\"\\nITT trial data:\")\n",
    "print(trial_itt['data'].head())"
   ]
  },
  {
   "cell_type": "markdown",
   "metadata": {},
   "source": [
    "## 3. Weight Models and Censoring\n",
    "In target trial emulation, we adjust for bias due to treatment switching and informative censoring by estimating inverse probability weights."
   ]
  },
  {
   "cell_type": "markdown",
   "metadata": {},
   "source": [
    "### 3.1. Censoring due to Treatment Switching\n",
>>>>>>> 23560305a2629b26bdb3f870eb37f8ecb8935be0
    "\n",
    "# Display initial records\n",
    "print(\"Initial rows of censored_data:\")\n",
    "print(censored_data.head())\n",
    "\n",
    "# Utility function to emulate R's set_data functionality\n",
    "def configure_data(dataset, id_column, time_period, treatment_flag, result_var, is_eligible):\n",
    "    \"\"\"\n",
    "    Extracts the relevant columns from the dataset and assigns them standardized labels.\n",
    "    \"\"\"\n",
    "    structured_data = {\n",
    "        'data': dataset.copy(),\n",
    "        'id': id_column,\n",
    "        'period': time_period,\n",
    "        'treatment': treatment_flag,\n",
    "        'outcome': result_var,\n",
    "        'eligible': is_eligible\n",
    "    }\n",
    "    return structured_data\n",
    "\n",
    "# Generate datasets for per-protocol (PP) and intention-to-treat (ITT) trials\n",
    "pp_trial_data = configure_data(dataset=censored_data, id_column=\"id\", time_period=\"period\",\n",
    "                               treatment_flag=\"treatment\", result_var=\"outcome\", is_eligible=\"eligible\")\n",
    "\n",
    "itt_trial_data = configure_data(dataset=censored_data, id_column=\"id\", time_period=\"period\",\n",
    "                                treatment_flag=\"treatment\", result_var=\"outcome\", is_eligible=\"eligible\")\n",
    "\n",
    "# Output samples from each trial dataset\n",
    "print(\"\\nSample from per-protocol trial dataset:\")\n",
    "print(pp_trial_data['data'].head())\n",
    "\n",
    "print(\"\\nSample from ITT trial dataset:\")\n",
    "print(itt_trial_data['data'].head())"
   ]
  },
  {
<<<<<<< HEAD
   "cell_type": "markdown",
   "metadata": {},
   "source": [
    "## 3. Weight Computation and Censoring Adjustment"
   ]
  },
  {
   "cell_type": "markdown",
   "metadata": {},
   "source": [
    "### 3.1. Managing Treatment Switching\n",
    "To correct for bias, two logistic regression models are trained:\n",
    "- **Numerator model:** Predicts switching probability using age.\n",
    "- **Denominator model:** Predicts switching probability based on age, `x1`, and `x3`.\n",
    "\n",
    "The **stabilized weight** is calculated as a ratio of these probabilities, adjusting for treatment switching in PP analysis.\n"
   ]
  },
  {
   "cell_type": "code",
   "execution_count": 23,
=======
   "cell_type": "code",
   "execution_count": 53,
>>>>>>> 23560305a2629b26bdb3f870eb37f8ecb8935be0
   "metadata": {
    "ExecuteTime": {
     "end_time": "2025-03-09T07:02:03.074866Z",
     "start_time": "2025-03-09T07:02:03.052056Z"
    }
   },
   "outputs": [
    {
     "name": "stdout",
     "output_type": "stream",
     "text": [
      "\n",
<<<<<<< HEAD
      "Sample rows with computed switch weights (PP):\n",
=======
      "First few rows with switch weights (PP):\n",
>>>>>>> 23560305a2629b26bdb3f870eb37f8ecb8935be0
      "   id  period  treatment  x1        x2  x3        x4  age     age_s  outcome  \\\n",
      "0   1       0          1   1  1.146148   0  0.734203   36  0.083333        0   \n",
      "1   1       1          1   1  0.002200   0  0.734203   37  0.166667        0   \n",
      "2   1       2          1   0 -0.481762   0  0.734203   38  0.250000        0   \n",
      "3   1       3          1   0  0.007872   0  0.734203   39  0.333333        0   \n",
      "4   1       4          1   1  0.216054   0  0.734203   40  0.416667        0   \n",
      "\n",
      "   censored  eligible  switch_weight  \n",
      "0         0         1       0.930088  \n",
      "1         0         0       0.928634  \n",
      "2         0         0       1.039459  \n",
      "3         0         0       1.040816  \n",
      "4         0         0       0.924292  \n"
     ]
    }
   ],
<<<<<<< HEAD
=======
   "source": [
    "# Helper functions for logistic regression\n",
    "def fit_logistic_model(X, y):\n",
    "    X = sm.add_constant(X)\n",
    "    model = sm.Logit(y, X).fit(disp=False)\n",
    "    return model\n",
    "\n",
    "def predict_prob(model, X):\n",
    "    X = sm.add_constant(X)\n",
    "    return model.predict(X)\n",
    "\n",
    "def set_switch_weight_model(data, numerator, denominator, model_fitter=fit_logistic_model, save_path=None):\n",
    "    num_formula = numerator.replace(\"~\", \"\").strip()\n",
    "    num_vars = [v.strip() for v in num_formula.split(\"+\")]\n",
    "\n",
    "    den_formula = denominator.replace(\"~\", \"\").strip()\n",
    "    den_vars = [v.strip() for v in den_formula.split(\"+\")]\n",
    "\n",
    "    # Fit numerator and denominator models\n",
    "    X_num = data[num_vars]\n",
    "    y_treatment = data[\"treatment\"]\n",
    "    num_model = model_fitter(X_num, y_treatment)\n",
    "\n",
    "    X_den = data[den_vars]\n",
    "    den_model = model_fitter(X_den, y_treatment)\n",
    "\n",
    "    p_num = predict_prob(num_model, X_num)\n",
    "    p_den = predict_prob(den_model, X_den)\n",
    "\n",
    "    data = data.copy()\n",
    "    data[\"switch_weight\"] = p_num / p_den\n",
    "\n",
    "    if save_path is not None:\n",
    "        os.makedirs(save_path, exist_ok=True)\n",
    "        with open(os.path.join(save_path, \"switch_model_num.pkl\"), \"wb\") as f:\n",
    "            pickle.dump(num_model, f)\n",
    "        with open(os.path.join(save_path, \"switch_model_den.pkl\"), \"wb\") as f:\n",
    "            pickle.dump(den_model, f)\n",
    "\n",
    "    return {\"data\": data, \"numerator_model\": num_model, \"denominator_model\": den_model,\n",
    "            \"switch_weights\": data[\"switch_weight\"]}\n",
    "\n",
    "# Apply the switch weight model to the per-protocol data\n",
    "switch_results = set_switch_weight_model(\n",
    "    data=trial_pp['data'],\n",
    "    numerator=\"~ age\",\n",
    "    denominator=\"~ age + x1 + x3\",\n",
    "    model_fitter=fit_logistic_model,\n",
    "    save_path=os.path.join(trial_pp_dir, \"switch_models\")\n",
    ")\n",
    "trial_pp['data'] = switch_results[\"data\"]\n",
    "\n",
    "print(\"\\nFirst few rows with switch weights (PP):\")\n",
    "print(trial_pp['data'].head())"
   ]
  },
  {
   "cell_type": "markdown",
   "metadata": {},
>>>>>>> 23560305a2629b26bdb3f870eb37f8ecb8935be0
   "source": [
    "# Utility functions for logistic regression\n",
    "def train_logistic_model(features, target):\n",
    "    \"\"\"\n",
    "    Train a logistic regression model using statsmodels.\n",
    "    \"\"\"\n",
    "    features = sm.add_constant(features)\n",
    "    fitted_model = sm.Logit(target, features).fit(disp=False)\n",
    "    return fitted_model\n",
    "\n",
    "def compute_probabilities(fitted_model, features):\n",
    "    \"\"\"\n",
    "    Generate predicted probabilities from a logistic regression model.\n",
    "    \"\"\"\n",
    "    features = sm.add_constant(features)\n",
    "    return fitted_model.predict(features)\n",
    "\n",
    "def configure_switch_weight_model(dataset, num_expr, den_expr, model_trainer=train_logistic_model, storage_path=None):\n",
    "    \"\"\"\n",
    "    Constructs a switch weight model for adjusting treatment switching effects.\n",
    "    \"\"\"\n",
    "    # Process formulas\n",
    "    num_features = [col.strip() for col in num_expr.replace(\"~\", \"\").strip().split(\"+\")]\n",
    "    den_features = [col.strip() for col in den_expr.replace(\"~\", \"\").strip().split(\"+\")]\n",
    "\n",
    "    # Fit the numerator model: treatment ~ (numerator features)\n",
    "    X_numerator = dataset[num_features]\n",
    "    treatment_target = dataset[\"treatment\"]\n",
    "    numerator_model = model_trainer(X_numerator, treatment_target)\n",
    "\n",
    "    # Fit the denominator model: treatment ~ (denominator features)\n",
    "    X_denominator = dataset[den_features]\n",
    "    denominator_model = model_trainer(X_denominator, treatment_target)\n",
    "\n",
    "    # Compute probability estimates and derive stabilized weights\n",
    "    prob_numerator = compute_probabilities(numerator_model, X_numerator)\n",
    "    prob_denominator = compute_probabilities(denominator_model, X_denominator)\n",
    "\n",
    "    dataset = dataset.copy()\n",
    "    dataset[\"switch_weight\"] = prob_numerator / prob_denominator\n",
    "\n",
    "    # Save models if a storage path is provided\n",
    "    if storage_path is not None:\n",
    "        os.makedirs(storage_path, exist_ok=True)\n",
    "        with open(os.path.join(storage_path, \"switch_model_numerator.pkl\"), \"wb\") as file:\n",
    "            pickle.dump(numerator_model, file)\n",
    "        with open(os.path.join(storage_path, \"switch_model_denominator.pkl\"), \"wb\") as file:\n",
    "            pickle.dump(denominator_model, file)\n",
    "\n",
    "    return {\n",
    "        \"data\": dataset,\n",
    "        \"numerator_model\": numerator_model,\n",
    "        \"denominator_model\": denominator_model,\n",
    "        \"switch_weights\": dataset[\"switch_weight\"]\n",
    "    }\n",
    "\n",
    "# Execute switch weight model on the per-protocol dataset\n",
    "switch_analysis = configure_switch_weight_model(\n",
    "    dataset=pp_trial_data['data'],\n",
    "    num_expr=\"~ age\",\n",
    "    den_expr=\"~ age + x1 + x3\",\n",
    "    model_trainer=train_logistic_model,\n",
    "    storage_path=os.path.join(pp_trial_path, \"switch_models\")\n",
    ")\n",
    "pp_trial_data['data'] = switch_analysis[\"data\"]\n",
    "\n",
    "print(\"\\nSample rows with computed switch weights (PP):\")\n",
    "print(pp_trial_data['data'].head())"
   ]
  },
  {
<<<<<<< HEAD
   "cell_type": "markdown",
   "metadata": {},
   "source": [
    "### 3.2. Correcting for Informative Censoring\n",
    "Logistic regression models estimate the probability of remaining uncensored:\n",
    "- **Numerator model:** Uses `x2`.\n",
    "- **Denominator model:** Uses `x2` and `x1`."
   ]
  },
  {
   "cell_type": "code",
   "execution_count": 24,
=======
   "cell_type": "code",
   "execution_count": 54,
>>>>>>> 23560305a2629b26bdb3f870eb37f8ecb8935be0
   "metadata": {
    "ExecuteTime": {
     "end_time": "2025-03-09T07:02:03.118521Z",
     "start_time": "2025-03-09T07:02:03.080531Z"
    }
   },
   "outputs": [
    {
     "name": "stdout",
     "output_type": "stream",
     "text": [
<<<<<<< HEAD
      "Models saved at: C:\\Users\\jmrcn\\AppData\\Local\\Temp\\pp_trial\\censor_models\\censor_model_numerator.pkl and C:\\Users\\jmrcn\\AppData\\Local\\Temp\\pp_trial\\censor_models\\censor_model_denominator.pkl\n",
      "\n",
      "Sample rows with computed censor weights (PP):\n",
=======
      "\n",
      "First few rows with censor weights (PP):\n",
>>>>>>> 23560305a2629b26bdb3f870eb37f8ecb8935be0
      "   id  period  treatment  x1        x2  x3        x4  age     age_s  outcome  \\\n",
      "0   1       0          1   1  1.146148   0  0.734203   36  0.083333        0   \n",
      "1   1       1          1   1  0.002200   0  0.734203   37  0.166667        0   \n",
      "2   1       2          1   0 -0.481762   0  0.734203   38  0.250000        0   \n",
      "3   1       3          1   0  0.007872   0  0.734203   39  0.333333        0   \n",
      "4   1       4          1   1  0.216054   0  0.734203   40  0.416667        0   \n",
      "\n",
<<<<<<< HEAD
      "   censored  eligible  switch_weight  uncensored  censor_weight  \n",
      "0         0         1       0.930088           1       0.955481  \n",
      "1         0         0       0.928634           1       0.970647  \n",
      "2         0         0       1.039459           1       1.016972  \n",
      "3         0         0       1.040816           1       1.021899  \n",
      "4         0         0       0.924292           1       0.968208  \n",
      "Models saved at: C:\\Users\\jmrcn\\AppData\\Local\\Temp\\itt_trial\\censor_models\\censor_model_numerator.pkl and C:\\Users\\jmrcn\\AppData\\Local\\Temp\\itt_trial\\censor_models\\censor_model_denominator.pkl\n",
      "\n",
      "Sample rows with computed censor weights (ITT):\n",
=======
      "   censored  eligible  switch_weight  not_censored  censor_weight  \n",
      "0         0         1       0.930088             1       0.955481  \n",
      "1         0         0       0.928634             1       0.970647  \n",
      "2         0         0       1.039459             1       1.016972  \n",
      "3         0         0       1.040816             1       1.021899  \n",
      "4         0         0       0.924292             1       0.968208  \n",
      "\n",
      "First few rows with censor weights (ITT):\n",
>>>>>>> 23560305a2629b26bdb3f870eb37f8ecb8935be0
      "   id  period  treatment  x1        x2  x3        x4  age     age_s  outcome  \\\n",
      "0   1       0          1   1  1.146148   0  0.734203   36  0.083333        0   \n",
      "1   1       1          1   1  0.002200   0  0.734203   37  0.166667        0   \n",
      "2   1       2          1   0 -0.481762   0  0.734203   38  0.250000        0   \n",
      "3   1       3          1   0  0.007872   0  0.734203   39  0.333333        0   \n",
      "4   1       4          1   1  0.216054   0  0.734203   40  0.416667        0   \n",
      "\n",
<<<<<<< HEAD
      "   censored  eligible  uncensored  censor_weight  \n",
      "0         0         1           1       0.955481  \n",
      "1         0         0           1       0.970647  \n",
      "2         0         0           1       1.016972  \n",
      "3         0         0           1       1.021899  \n",
      "4         0         0           1       0.968208  \n"
     ]
    }
   ],
=======
      "   censored  eligible  not_censored  censor_weight  \n",
      "0         0         1             1       0.955481  \n",
      "1         0         0             1       0.970647  \n",
      "2         0         0             1       1.016972  \n",
      "3         0         0             1       1.021899  \n",
      "4         0         0             1       0.968208  \n"
     ]
    }
   ],
   "source": [
    "def set_censor_weight_model(data, censor_event, numerator, denominator, pool_models=\"none\",\n",
    "                            model_fitter=fit_logistic_model, save_path=None):\n",
    "    data = data.copy()\n",
    "    data[\"not_censored\"] = 1 - data[censor_event]\n",
    "\n",
    "    num_formula = numerator.replace(\"~\", \"\").strip()\n",
    "    num_vars = [v.strip() for v in num_formula.split(\"+\")]\n",
    "\n",
    "    den_formula = denominator.replace(\"~\", \"\").strip()\n",
    "    den_vars = [v.strip() for v in den_formula.split(\"+\")]\n",
    "\n",
    "    X_num = data[num_vars]\n",
    "    y_nc = data[\"not_censored\"]\n",
    "    num_model = model_fitter(X_num, y_nc)\n",
    "\n",
    "    X_den = data[den_vars]\n",
    "    den_model = model_fitter(X_den, y_nc)\n",
    "\n",
    "    p_num = predict_prob(num_model, X_num)\n",
    "    p_den = predict_prob(den_model, X_den)\n",
    "\n",
    "    data[\"censor_weight\"] = p_num / p_den\n",
    "\n",
    "    if save_path is not None:\n",
    "        os.makedirs(save_path, exist_ok=True)\n",
    "        with open(os.path.join(save_path, \"censor_model_num.pkl\"), \"wb\") as f:\n",
    "            pickle.dump(num_model, f)\n",
    "        with open(os.path.join(save_path, \"censor_model_den.pkl\"), \"wb\") as f:\n",
    "            pickle.dump(den_model, f)\n",
    "\n",
    "    return {\"data\": data, \"numerator_model\": num_model, \"denominator_model\": den_model,\n",
    "            \"censor_weights\": data[\"censor_weight\"]}\n",
    "\n",
    "# For per-protocol (PP), use pool_models=\"none\"\n",
    "censor_results_pp = set_censor_weight_model(\n",
    "    data=trial_pp['data'],\n",
    "    censor_event=\"censored\",\n",
    "    numerator=\"~ x2\",\n",
    "    denominator=\"~ x2 + x1\",\n",
    "    pool_models=\"none\",\n",
    "    model_fitter=fit_logistic_model,\n",
    "    save_path=os.path.join(trial_pp_dir, \"switch_models\")\n",
    ")\n",
    "trial_pp['data'] = censor_results_pp[\"data\"]\n",
    "print(\"\\nFirst few rows with censor weights (PP):\")\n",
    "print(trial_pp['data'].head())\n",
    "\n",
    "# For ITT, we assume pooling numerator (\"numerator\")\n",
    "censor_results_itt = set_censor_weight_model(\n",
    "    data=trial_itt['data'],\n",
    "    censor_event=\"censored\",\n",
    "    numerator=\"~ x2\",\n",
    "    denominator=\"~ x2 + x1\",\n",
    "    pool_models=\"numerator\",\n",
    "    model_fitter=fit_logistic_model,\n",
    "    save_path=os.path.join(trial_itt_dir, \"switch_models\")\n",
    ")\n",
    "trial_itt['data'] = censor_results_itt[\"data\"]\n",
    "print(\"\\nFirst few rows with censor weights (ITT):\")\n",
    "print(trial_itt['data'].head())"
   ]
  },
  {
   "cell_type": "markdown",
   "metadata": {},
>>>>>>> 23560305a2629b26bdb3f870eb37f8ecb8935be0
   "source": [
    "def configure_censor_weight_model(dataset, censor_flag, num_expr, den_expr, pooling_strategy=\"none\",\n",
    "                                  model_trainer=train_logistic_model, storage_path=None):\n",
    "    \"\"\"\n",
    "    Construct a censor weight model to handle informative censoring adjustments.\n",
    "    \"\"\"\n",
    "    dataset = dataset.copy()\n",
    "    # Define the inverse of censoring: 1 - censor_flag\n",
    "    dataset[\"uncensored\"] = 1 - dataset[censor_flag]\n",
    "\n",
    "    # Extract features for numerator and denominator models\n",
    "    num_features = [col.strip() for col in num_expr.replace(\"~\", \"\").strip().split(\"+\")]\n",
    "    den_features = [col.strip() for col in den_expr.replace(\"~\", \"\").strip().split(\"+\")]\n",
    "\n",
    "    # Train numerator model: uncensored ~ num_features\n",
    "    X_numerator = dataset[num_features]\n",
    "    target_uncensored = dataset[\"uncensored\"]\n",
    "    numerator_model = model_trainer(X_numerator, target_uncensored)\n",
    "\n",
    "    # Train denominator model: uncensored ~ den_features\n",
    "    X_denominator = dataset[den_features]\n",
    "    denominator_model = model_trainer(X_denominator, target_uncensored)\n",
    "\n",
    "    # Compute probability estimates and derive censoring weights\n",
    "    prob_numerator = compute_probabilities(numerator_model, X_numerator)\n",
    "    prob_denominator = compute_probabilities(denominator_model, X_denominator)\n",
    "\n",
    "    dataset[\"censor_weight\"] = prob_numerator / prob_denominator\n",
    "\n",
    "    # Save models if a storage directory is provided\n",
    "    if storage_path is not None:\n",
    "        os.makedirs(storage_path, exist_ok=True)\n",
    "        numerator_path = os.path.join(storage_path, \"censor_model_numerator.pkl\")\n",
    "        denominator_path = os.path.join(storage_path, \"censor_model_denominator.pkl\")\n",
    "        with open(numerator_path, \"wb\") as file:\n",
    "            pickle.dump(numerator_model, file)\n",
    "        with open(denominator_path, \"wb\") as file:\n",
    "            pickle.dump(denominator_model, file)\n",
    "        print(f\"Models saved at: {numerator_path} and {denominator_path}\")\n",
    "\n",
    "    return {\n",
    "        \"data\": dataset,\n",
    "        \"numerator_model\": numerator_model,\n",
    "        \"denominator_model\": denominator_model,\n",
    "        \"censor_weights\": dataset[\"censor_weight\"]\n",
    "    }\n",
    "\n",
    "# Apply censor weight model to per-protocol dataset without pooling\n",
    "censor_analysis_pp = configure_censor_weight_model(\n",
    "    dataset=pp_trial_data['data'],\n",
    "    censor_flag=\"censored\",\n",
    "    num_expr=\"~ x2\",\n",
    "    den_expr=\"~ x2 + x1\",\n",
    "    pooling_strategy=\"none\",\n",
    "    model_trainer=train_logistic_model,\n",
    "    storage_path=os.path.join(pp_trial_path, \"censor_models\")\n",
    ")\n",
    "pp_trial_data['data'] = censor_analysis_pp[\"data\"]\n",
    "\n",
    "print(\"\\nSample rows with computed censor weights (PP):\")\n",
    "print(pp_trial_data['data'].head())\n",
    "\n",
    "# Apply censor weight model to ITT dataset with numerator pooling\n",
    "censor_analysis_itt = configure_censor_weight_model(\n",
    "    dataset=itt_trial_data['data'],\n",
    "    censor_flag=\"censored\",\n",
    "    num_expr=\"~ x2\",\n",
    "    den_expr=\"~ x2 + x1\",\n",
    "    pooling_strategy=\"numerator\",\n",
    "    model_trainer=train_logistic_model,\n",
    "    storage_path=os.path.join(itt_trial_path, \"censor_models\")\n",
    ")\n",
    "itt_trial_data['data'] = censor_analysis_itt[\"data\"]\n",
    "\n",
    "print(\"\\nSample rows with computed censor weights (ITT):\")\n",
    "print(itt_trial_data['data'].head())"
   ]
  },
  {
<<<<<<< HEAD
   "cell_type": "markdown",
   "metadata": {},
   "source": [
    "## 4. Weight Application\n",
    "- **Per-Protocol (PP):** The final weight is the product of the treatment switch weight and the censoring weight.\n",
    "- **Intention-to-Treat (ITT):** Uses only the censoring weight.\n"
   ]
  },
  {
   "cell_type": "code",
   "execution_count": 25,
=======
   "cell_type": "code",
   "execution_count": 55,
>>>>>>> 23560305a2629b26bdb3f870eb37f8ecb8935be0
   "metadata": {
    "ExecuteTime": {
     "end_time": "2025-03-09T07:02:03.159737Z",
     "start_time": "2025-03-09T07:02:03.149325Z"
    }
   },
   "outputs": [
    {
     "name": "stdout",
     "output_type": "stream",
     "text": [
      "\n",
      "Preview of computed PP weights:\n",
      "   id  final_PP_weight\n",
      "0   1         0.888682\n",
      "1   1         0.901376\n",
      "2   1         1.057101\n",
      "3   1         1.063608\n",
      "4   1         0.894907\n",
      "\n",
      "Preview of computed ITT weights:\n",
      "   id  final_ITT_weight\n",
      "0   1          0.955481\n",
      "1   1          0.970647\n",
      "2   1          1.016972\n",
      "3   1          1.021899\n",
      "4   1          0.968208\n"
     ]
    }
   ],
<<<<<<< HEAD
=======
   "source": [
    "# For PP, overall weight is the product of switch and censor weights.\n",
    "trial_pp['data'][\"PP_weight\"] = trial_pp['data'][\"switch_weight\"] * trial_pp['data'][\"censor_weight\"]\n",
    "\n",
    "# For ITT, weight is simply the censor weight.\n",
    "trial_itt['data'][\"ITT_weight\"] = trial_itt['data'][\"censor_weight\"]\n",
    "\n",
    "print(\"\\nFirst few rows with overall PP weights:\")\n",
    "print(trial_pp['data'][[\"id\", \"PP_weight\"]].head())\n",
    "print(\"\\nFirst few rows with ITT weights:\")\n",
    "print(trial_itt['data'][[\"id\", \"ITT_weight\"]].head())"
   ]
  },
  {
   "cell_type": "markdown",
   "metadata": {},
>>>>>>> 23560305a2629b26bdb3f870eb37f8ecb8935be0
   "source": [
    "# Compute final weights for Per-Protocol (PP) group by multiplying switch and censor weights\n",
    "pp_trial_data['data'][\"final_PP_weight\"] = pp_trial_data['data'][\"switch_weight\"] * pp_trial_data['data'][\"censor_weight\"]\n",
    "\n",
    "# For Intention-To-Treat (ITT) group, the final weight is simply the censor weight\n",
    "itt_trial_data['data'][\"final_ITT_weight\"] = itt_trial_data['data'][\"censor_weight\"]\n",
    "\n",
    "print(\"\\nPreview of computed PP weights:\")\n",
    "print(pp_trial_data['data'][[\"id\", \"final_PP_weight\"]].head())\n",
    "\n",
    "print(\"\\nPreview of computed ITT weights:\")\n",
    "print(itt_trial_data['data'][[\"id\", \"final_ITT_weight\"]].head())"
   ]
  },
  {
<<<<<<< HEAD
   "cell_type": "markdown",
   "metadata": {},
   "source": [
    "## 5. Outcome Model Specification\n",
    "The outcome model is structured as:\n",
    "```python\n",
    "outcome ~ assigned_treatment + x2 + followup_time + (followup_time)^2 + trial_period + (trial_period)^2"
   ]
  },
  {
   "cell_type": "code",
   "execution_count": 28,
   "metadata": {
    "ExecuteTime": {
     "end_time": "2025-03-09T07:02:03.195490Z",
     "start_time": "2025-03-09T07:02:03.190272Z"
=======
   "cell_type": "code",
   "execution_count": null,
   "metadata": {
    "ExecuteTime": {
     "start_time": "2025-03-09T07:15:11.356463Z"
    },
    "jupyter": {
     "is_executing": true
>>>>>>> 23560305a2629b26bdb3f870eb37f8ecb8935be0
    }
   },
   "outputs": [],
   "source": [
<<<<<<< HEAD
    "def define_outcome_model(input_data, extra_adjustments=None):\n",
    "    \"\"\"\n",
    "    Placeholder function to represent outcome model specification.\n",
    "\n",
    "    Parameters:\n",
    "        input_data (DataFrame): Dataset being processed.\n",
    "        extra_adjustments (str, optional): String representing additional adjustment variables.\n",
    "\n",
    "    Returns:\n",
    "        DataFrame: Modified dataset with an 'adjustment_factors' column.\n",
    "    \"\"\"\n",
    "    updated_data = input_data.copy()\n",
    "    updated_data[\"adjustment_factors\"] = extra_adjustments if extra_adjustments is not None else \"\"\n",
    "    return updated_data\n",
    "\n",
    "# Apply outcome model for Per-Protocol (PP) without extra adjustments\n",
    "pp_trial_data['data'] = define_outcome_model(pp_trial_data['data'])\n",
    "\n",
    "# Apply outcome model for Intention-To-Treat (ITT) with an additional adjustment variable (\"x2\")\n",
    "itt_trial_data['data'] = define_outcome_model(itt_trial_data['data'], extra_adjustments=\"x2\")\n"
=======
    "# Choose features for clustering. You can select relevant baseline features.\n",
    "clustering_features = ['age', 'x1', 'x2', 'x3']  # Ensure these columns exist in your data\n",
    "data_cluster = trial_pp['data'][clustering_features].dropna()\n",
    "\n",
    "# Standardize the features\n",
    "scaler = StandardScaler()\n",
    "scaled_features = scaler.fit_transform(data_cluster)\n",
    "\n",
    "# Optionally, determine the optimal number of clusters using the Elbow method.\n",
    "wcss = []\n",
    "for i in range(1, 11):\n",
    "    kmeans = KMeans(n_clusters=i, random_state=42)\n",
    "    kmeans.fit(scaled_features)\n",
    "    wcss.append(kmeans.inertia_)\n",
    "\n",
    "plt.figure(figsize=(8, 4))\n",
    "plt.plot(range(1, 11), wcss, marker='o')\n",
    "plt.title('Elbow Method for Optimal Clusters')\n",
    "plt.xlabel('Number of Clusters')\n",
    "plt.ylabel('WCSS')\n",
    "plt.show()\n",
    "\n",
    "# For this example, let's choose 3 clusters (adjust based on your elbow plot).\n",
    "optimal_clusters = 3\n",
    "kmeans = KMeans(n_clusters=optimal_clusters, random_state=42)\n",
    "cluster_labels = kmeans.fit_predict(scaled_features)\n",
    "\n",
    "# Add the cluster labels to the PP data\n",
    "trial_pp['data'].loc[data_cluster.index, 'cluster'] = cluster_labels\n",
    "\n",
    "# Visualize clusters using PCA for a 2D projection\n",
    "pca = PCA(n_components=2)\n",
    "principal_components = pca.fit_transform(scaled_features)\n",
    "plt.figure(figsize=(8,6))\n",
    "plt.scatter(principal_components[:, 0], principal_components[:, 1],\n",
    "            c=cluster_labels, cmap='viridis', edgecolor='k', s=50)\n",
    "plt.xlabel('Principal Component 1')\n",
    "plt.ylabel('Principal Component 2')\n",
    "plt.title('K-means Clustering on Baseline Features')\n",
    "plt.show()\n",
    "\n",
    "# Generate insights: Compare clusters by key outcomes or weights\n",
    "cluster_summary = trial_pp['data'].groupby('cluster').agg({\n",
    "    'age': 'mean',\n",
    "    'x1': 'mean',\n",
    "    'x2': 'mean',\n",
    "    'x3': 'mean',\n",
    "    'PP_weight': 'mean',\n",
    "    'outcome': 'mean'\n",
    "}).rename(columns={'outcome': 'avg_outcome'})\n",
    "print(\"\\nCluster Summary (mean values):\")\n",
    "print(cluster_summary)\n",
    "# Insights could be drawn, for instance, if one cluster shows a notably higher average outcome or weight."
   ]
  },
  {
   "cell_type": "markdown",
   "metadata": {},
   "source": [
    "## 5. Specify Outcome Model\n",
    "\n",
    "Explanation\n",
    "The outcome model is specified as:\n",
    "`outcome ~ assigned_treatment + x2 + followup_time + (followup_time)^2 + trial_period + (trial_period)^2`\n",
    "\n",
    "For ITT, an adjustment term (x2) is added. In this simplified example, we create a function to \"set\" the outcome model (here just a placeholder)."
   ]
  },
  {
   "cell_type": "code",
   "execution_count": 46,
   "metadata": {
    "ExecuteTime": {
     "end_time": "2025-03-09T07:14:17.859441Z",
     "start_time": "2025-03-09T07:14:17.852088Z"
    }
   },
   "outputs": [],
   "source": [
    "def set_outcome_model(data, adjustment_terms=None):\n",
    "    \"\"\"\n",
    "    Dummy function to mark outcome model specification.\n",
    "\n",
    "    Parameters:\n",
    "        data (DataFrame): Input data.\n",
    "        adjustment_terms: Additional adjustment terms (stored as a string for simplicity).\n",
    "\n",
    "    Returns:\n",
    "        DataFrame: Data with an added column 'adjustment_terms'.\n",
    "    \"\"\"\n",
    "    data = data.copy()\n",
    "    data[\"adjustment_terms\"] = adjustment_terms if adjustment_terms is not None else \"\"\n",
    "    return data\n",
    "\n",
    "# For PP, no additional adjustment is specified.\n",
    "trial_pp['data'] = set_outcome_model(trial_pp['data'])\n",
    "\n",
    "# For ITT, specify an adjustment term (\"x2\")\n",
    "trial_itt['data'] = set_outcome_model(trial_itt['data'], adjustment_terms=\"x2\")"
>>>>>>> 23560305a2629b26bdb3f870eb37f8ecb8935be0
   ]
  },
  {
   "cell_type": "markdown",
   "metadata": {},
   "source": [
<<<<<<< HEAD
    "## 6. Expanding Trial Periods\n",
    "\n",
    "Patient baseline data is expanded into multiple trial periods (e.g., 0 to 7), forming structured trial datasets. A followup_time column is introduced to track progression."
=======
    "## 6. Expand Trials\n",
    "\n",
    "Expanding the data involves replicating each patient's baseline row for multiple trial periods (e.g., 0 to 7). This creates a sequence of target trial datasets where each row represents one trial period, and a new column `followup_time` is added."
>>>>>>> 23560305a2629b26bdb3f870eb37f8ecb8935be0
   ]
  },
  {
   "cell_type": "code",
<<<<<<< HEAD
   "execution_count": null,
   "metadata": {
    "ExecuteTime": {
     "end_time": "2025-03-09T07:02:03.259337Z",
     "start_time": "2025-03-09T07:02:03.228021Z"
    }
   },
   "outputs": [
    {
     "name": "stdout",
     "output_type": "stream",
     "text": [
      "\n",
      "Preview of expanded PP dataset:\n",
      "   id  period  treatment  x1        x2  x3        x4  age     age_s  outcome  \\\n",
      "0   1       0          1   1  1.146148   0  0.734203   36  0.083333        0   \n",
      "1   1       0          1   1  1.146148   0  0.734203   36  0.083333        0   \n",
      "2   1       0          1   1  1.146148   0  0.734203   36  0.083333        0   \n",
      "3   1       0          1   1  1.146148   0  0.734203   36  0.083333        0   \n",
      "4   1       0          1   1  1.146148   0  0.734203   36  0.083333        0   \n",
      "\n",
      "   censored  eligible  switch_weight  uncensored  censor_weight  \\\n",
      "0         0         1       0.930088           1       0.955481   \n",
      "1         0         1       0.930088           1       0.955481   \n",
      "2         0         1       0.930088           1       0.955481   \n",
      "3         0         1       0.930088           1       0.955481   \n",
      "4         0         1       0.930088           1       0.955481   \n",
      "\n",
      "   final_PP_weight adjustment_factors  study_phase  time_followed  \n",
      "0         0.888682                               0              0  \n",
      "1         0.888682                               1              1  \n",
      "2         0.888682                               2              2  \n",
      "3         0.888682                               3              3  \n",
      "4         0.888682                               4              4  \n",
      "\n",
      "Preview of expanded ITT dataset:\n",
      "   id  period  treatment  x1        x2  x3        x4  age     age_s  outcome  \\\n",
      "0   1       0          1   1  1.146148   0  0.734203   36  0.083333        0   \n",
      "1   1       0          1   1  1.146148   0  0.734203   36  0.083333        0   \n",
      "2   1       0          1   1  1.146148   0  0.734203   36  0.083333        0   \n",
      "3   1       0          1   1  1.146148   0  0.734203   36  0.083333        0   \n",
      "4   1       0          1   1  1.146148   0  0.734203   36  0.083333        0   \n",
      "\n",
      "   censored  eligible  uncensored  censor_weight  final_ITT_weight  \\\n",
      "0         0         1           1       0.955481          0.955481   \n",
      "1         0         1           1       0.955481          0.955481   \n",
      "2         0         1           1       0.955481          0.955481   \n",
      "3         0         1           1       0.955481          0.955481   \n",
      "4         0         1           1       0.955481          0.955481   \n",
      "\n",
      "  adjustment_factors  study_phase  time_followed  \n",
      "0                 x2            0              0  \n",
      "1                 x2            1              1  \n",
      "2                 x2            2              2  \n",
      "3                 x2            3              3  \n",
      "4                 x2            4              4  \n"
     ]
    }
   ],
   "source": [
    "def generate_trial_expansion(input_data, batch_size=500, start_period=0, end_period=None):\n",
    "    \"\"\"\n",
    "    Expand baseline dataset into multiple time periods for trial analysis.\n",
    "\n",
    "    Parameters:\n",
    "        input_data (DataFrame): Initial dataset.\n",
    "        batch_size (int): Number of subjects per segment (not used in this basic example).\n",
    "        start_period (int): Beginning of the trial period.\n",
    "        end_period (int, optional): Final trial period; defaults to start_period + 7 if not provided.\n",
    "\n",
    "    Returns:\n",
    "        DataFrame: Expanded dataset including 'study_phase' and 'time_followed'.\n",
    "    \"\"\"\n",
    "    if end_period is None:\n",
    "        end_period = start_period + 7  # Default range from 0 to 7\n",
    "\n",
    "    expanded_data = []\n",
    "    for subject_id, subset in input_data.groupby(\"id\"):\n",
    "        baseline_record = subset.iloc[0].to_dict()\n",
    "        for current_phase in range(start_period, end_period + 1):\n",
    "            modified_entry = baseline_record.copy()\n",
    "            modified_entry[\"study_phase\"] = current_phase\n",
    "            modified_entry[\"time_followed\"] = current_phase\n",
    "            expanded_data.append(modified_entry)\n",
    "\n",
    "    return pd.DataFrame(expanded_data)\n",
    "\n",
    "# Apply expansion function to PP and ITT datasets\n",
    "pp_trial_extended = generate_trial_expansion(pp_trial_data['data'], batch_size=500)\n",
    "itt_trial_extended = generate_trial_expansion(itt_trial_data['data'], batch_size=500)\n",
    "\n",
    "print(\"\\nPreview of expanded PP dataset:\")\n",
    "print(pp_trial_extended.head())\n",
    "\n",
    "print(\"\\nPreview of expanded ITT dataset:\")\n",
    "print(itt_trial_extended.head())"
   ]
  },
  {
   "cell_type": "markdown",
   "metadata": {},
   "source": [
    "## 7. Data Sampling (ITT Analysis)\n",
    "\n",
    "For efficiency, non-event cases (outcome == 0) are downsampled by 50%, while all event cases (outcome == 1) are retained."
   ]
  },
  {
   "cell_type": "code",
   "execution_count": 30,
   "metadata": {
    "ExecuteTime": {
     "end_time": "2025-03-09T07:02:03.295776Z",
     "start_time": "2025-03-09T07:02:03.288590Z"
    }
   },
   "outputs": [
    {
     "name": "stdout",
     "output_type": "stream",
     "text": [
      "\n",
      "Total observations in the sampled ITT dataset: 364\n"
     ]
    }
   ],
   "source": [
    "def extract_sampled_data(expanded_dataset, random_seed=1234, non_event_fraction=0.5):\n",
    "    \"\"\"\n",
    "    Select a subset from the expanded dataset by retaining all event occurrences\n",
    "    and randomly sampling a portion of non-events.\n",
    "    \"\"\"\n",
    "    np.random.seed(random_seed)\n",
    "    \n",
    "    # Retain all records where the outcome occurred\n",
    "    event_cases = expanded_dataset[expanded_dataset[\"outcome\"] == 1]\n",
    "    \n",
    "    # Randomly sample a fraction of the non-event records\n",
    "    non_event_cases = expanded_dataset[expanded_dataset[\"outcome\"] == 0].sample(\n",
    "        frac=non_event_fraction, random_state=random_seed\n",
    "    )\n",
    "\n",
    "    # Merge both event and non-event subsets\n",
    "    return pd.concat([event_cases, non_event_cases], ignore_index=True)\n",
    "\n",
    "# Apply sampling to ITT expanded dataset\n",
    "itt_trial_sampled = extract_sampled_data(itt_trial_extended, random_seed=1234, non_event_fraction=0.5)\n",
    "\n",
    "print(\"\\nTotal observations in the sampled ITT dataset:\", itt_trial_sampled.shape[0])"
   ]
  },
  {
   "cell_type": "markdown",
   "metadata": {},
   "source": [
    "## 8. Marginal Structural Model (MSM) Estimation\n",
    "\n",
    "- A weighted logistic regression model (MSM) is trained with these adjustments:\n",
    "\n",
    "- Assigning observed treatments (assigned_treatment).\n",
    "\n",
    "- Including quadratic terms for followup_time and trial_period.\n",
    "\n",
    "- Integrating ITT weights (computed per patient).\n",
    "\n",
    "- Winsorizing extreme weights (capping at the 99th percentile).\n",
    "\n",
    "- Fitting the model using statsmodels.GLM."
   ]
  },
  {
   "cell_type": "code",
   "execution_count": 32,
   "metadata": {
    "ExecuteTime": {
     "end_time": "2025-03-09T07:02:03.380807Z",
     "start_time": "2025-03-09T07:02:03.335455Z"
    }
   },
   "outputs": [
    {
     "name": "stderr",
     "output_type": "stream",
     "text": [
      "c:\\Users\\jmrcn\\Clones\\TTE_INSIGHTING\\.venv\\Lib\\site-packages\\statsmodels\\genmod\\families\\links.py:198: RuntimeWarning: overflow encountered in exp\n",
      "  t = np.exp(-z)\n"
     ]
    },
=======
   "execution_count": 47,
   "metadata": {
    "ExecuteTime": {
     "end_time": "2025-03-09T07:14:17.980062Z",
     "start_time": "2025-03-09T07:14:17.942824Z"
    }
   },
   "outputs": [
>>>>>>> 23560305a2629b26bdb3f870eb37f8ecb8935be0
    {
     "name": "stdout",
     "output_type": "stream",
     "text": [
      "\n",
<<<<<<< HEAD
      "Marginal Structural Model (MSM) Output:\n",
=======
      "Expanded PP data (first few rows):\n",
      "   id  period  treatment  x1        x2  x3        x4  age     age_s  outcome  \\\n",
      "0   1       0          1   1  1.146148   0  0.734203   36  0.083333        0   \n",
      "1   1       0          1   1  1.146148   0  0.734203   36  0.083333        0   \n",
      "2   1       0          1   1  1.146148   0  0.734203   36  0.083333        0   \n",
      "3   1       0          1   1  1.146148   0  0.734203   36  0.083333        0   \n",
      "4   1       0          1   1  1.146148   0  0.734203   36  0.083333        0   \n",
      "\n",
      "   censored  eligible  switch_weight  not_censored  censor_weight  PP_weight  \\\n",
      "0         0         1       0.930088             1       0.955481   0.888682   \n",
      "1         0         1       0.930088             1       0.955481   0.888682   \n",
      "2         0         1       0.930088             1       0.955481   0.888682   \n",
      "3         0         1       0.930088             1       0.955481   0.888682   \n",
      "4         0         1       0.930088             1       0.955481   0.888682   \n",
      "\n",
      "   cluster adjustment_terms  trial_period  followup_time  \n",
      "0      0.0                              0              0  \n",
      "1      0.0                              1              1  \n",
      "2      0.0                              2              2  \n",
      "3      0.0                              3              3  \n",
      "4      0.0                              4              4  \n",
      "\n",
      "Expanded ITT data (first few rows):\n",
      "   id  period  treatment  x1        x2  x3        x4  age     age_s  outcome  \\\n",
      "0   1       0          1   1  1.146148   0  0.734203   36  0.083333        0   \n",
      "1   1       0          1   1  1.146148   0  0.734203   36  0.083333        0   \n",
      "2   1       0          1   1  1.146148   0  0.734203   36  0.083333        0   \n",
      "3   1       0          1   1  1.146148   0  0.734203   36  0.083333        0   \n",
      "4   1       0          1   1  1.146148   0  0.734203   36  0.083333        0   \n",
      "\n",
      "   censored  eligible  not_censored  censor_weight  ITT_weight  \\\n",
      "0         0         1             1       0.955481    0.955481   \n",
      "1         0         1             1       0.955481    0.955481   \n",
      "2         0         1             1       0.955481    0.955481   \n",
      "3         0         1             1       0.955481    0.955481   \n",
      "4         0         1             1       0.955481    0.955481   \n",
      "\n",
      "  adjustment_terms  trial_period  followup_time  \n",
      "0               x2             0              0  \n",
      "1               x2             1              1  \n",
      "2               x2             2              2  \n",
      "3               x2             3              3  \n",
      "4               x2             4              4  \n"
     ]
    }
   ],
   "source": [
    "def expand_trials(data, chunk_size=500, first_period=0, last_period=None):\n",
    "    \"\"\"\n",
    "    Expand the data into multiple trial periods.\n",
    "\n",
    "    Parameters:\n",
    "        data (DataFrame): Baseline data.\n",
    "        chunk_size (int): Number of patients per chunk (not used in this simple example).\n",
    "        first_period (int): Starting trial period.\n",
    "        last_period (int, optional): Ending trial period; if None, default to first_period+7.\n",
    "\n",
    "    Returns:\n",
    "        DataFrame: Expanded data with 'trial_period' and 'followup_time' columns.\n",
    "    \"\"\"\n",
    "    if last_period is None:\n",
    "        last_period = first_period + 7  # e.g., 0 to 7\n",
    "\n",
    "    expanded_list = []\n",
    "    for pid, group in data.groupby(\"id\"):\n",
    "        baseline = group.iloc[0].to_dict()\n",
    "        for trial_period in range(first_period, last_period + 1):\n",
    "            row = baseline.copy()\n",
    "            row[\"trial_period\"] = trial_period\n",
    "            row[\"followup_time\"] = trial_period\n",
    "            expanded_list.append(row)\n",
    "    return pd.DataFrame(expanded_list)\n",
    "\n",
    "trial_pp_expanded = expand_trials(trial_pp['data'], chunk_size=500)\n",
    "trial_itt_expanded = expand_trials(trial_itt['data'], chunk_size=500)\n",
    "\n",
    "print(\"\\nExpanded PP data (first few rows):\")\n",
    "print(trial_pp_expanded.head())\n",
    "print(\"\\nExpanded ITT data (first few rows):\")\n",
    "print(trial_itt_expanded.head())\n"
   ]
  },
  {
   "cell_type": "markdown",
   "metadata": {},
   "source": [
    "## 7. Load or Sample from Expanded Data\n",
    "\n",
    "For ITT analyses, you might sample control observations to reduce data size. In this example, we retain all events (outcome == 1) and randomly sample 50% of non-event rows."
   ]
  },
  {
   "cell_type": "code",
   "execution_count": 48,
   "metadata": {
    "ExecuteTime": {
     "end_time": "2025-03-09T07:14:18.025703Z",
     "start_time": "2025-03-09T07:14:18.017274Z"
    }
   },
   "outputs": [
    {
     "name": "stdout",
     "output_type": "stream",
     "text": [
      "\n",
      "Number of ITT expanded observations after sampling: 364\n"
     ]
    }
   ],
   "source": [
    "def load_expanded_data(data, seed=1234, p_control=0.5):\n",
    "    \"\"\"\n",
    "    Sample the expanded data: keep all events and sample non-events.\n",
    "\n",
    "    Parameters:\n",
    "        data (DataFrame): Expanded data.\n",
    "        seed (int): Random seed.\n",
    "        p_control (float): Fraction of non-events to keep.\n",
    "\n",
    "    Returns:\n",
    "        DataFrame: Sampled expanded data.\n",
    "    \"\"\"\n",
    "    np.random.seed(seed)\n",
    "    events = data[data[\"outcome\"] == 1]\n",
    "    non_events = data[data[\"outcome\"] == 0].sample(frac=p_control, random_state=seed)\n",
    "    return pd.concat([events, non_events], ignore_index=True)\n",
    "\n",
    "trial_itt_loaded = load_expanded_data(trial_itt_expanded, seed=1234, p_control=0.5)\n",
    "print(\"\\nNumber of ITT expanded observations after sampling:\", trial_itt_loaded.shape[0])"
   ]
  },
  {
   "cell_type": "markdown",
   "metadata": {},
   "source": [
    "## 8. Fit Marginal Structural Model (MSM)\n",
    "\n",
    "We fit a weighted logistic regression (MSM) to estimate the outcome model. For ITT:\n",
    "\n",
    "- We set `assigned_treatment` equal to the observed treatment.\n",
    "- Create quadratic terms for `followup_time` and `trial_period`.\n",
    "- Merge ITT weights (unique per patient).\n",
    "- Winsorize extreme weights (cap at the 99th percentile).\n",
    "- Fit the model using `statsmodels.GLM`."
   ]
  },
  {
   "cell_type": "code",
   "execution_count": 49,
   "metadata": {
    "ExecuteTime": {
     "end_time": "2025-03-09T07:14:18.058942Z",
     "start_time": "2025-03-09T07:14:18.030883Z"
    }
   },
   "outputs": [
    {
     "name": "stdout",
     "output_type": "stream",
     "text": [
      "\n",
      "Marginal Structural Model (MSM) Summary:\n",
>>>>>>> 23560305a2629b26bdb3f870eb37f8ecb8935be0
      "                 Generalized Linear Model Regression Results                  \n",
      "==============================================================================\n",
      "Dep. Variable:                outcome   No. Observations:                44690\n",
      "Model:                            GLM   Df Residuals:                 44712.00\n",
      "Model Family:                Binomial   Df Model:                            4\n",
      "Link Function:                  Logit   Scale:                          1.0000\n",
      "Method:                          IRLS   Log-Likelihood:                    nan\n",
      "Date:                Sun, 09 Mar 2025   Deviance:                       1440.9\n",
      "Time:                        23:59:31   Pearson chi2:                 7.05e+16\n",
      "No. Iterations:                    10   Pseudo R-squ. (CS):                nan\n",
      "Covariance Type:            nonrobust                                         \n",
      "=======================================================================================\n",
      "                          coef    std err          z      P>|z|      [0.025      0.975]\n",
      "---------------------------------------------------------------------------------------\n",
      "const               -3.799e+15   8.17e+05  -4.65e+09      0.000    -3.8e+15    -3.8e+15\n",
      "allocated_treatment  4.191e+14   6.37e+05   6.58e+08      0.000    4.19e+14    4.19e+14\n",
      "x2                  -3.302e+14   3.87e+05  -8.52e+08      0.000    -3.3e+14    -3.3e+14\n",
      "time_followed        1.516e+14   2.57e+05   5.89e+08      0.000    1.52e+14    1.52e+14\n",
      "time_followup_sq    -1.123e+13   3.56e+04  -3.16e+08      0.000   -1.12e+13   -1.12e+13\n",
      "study_phase          1.516e+14   2.57e+05   5.89e+08      0.000    1.52e+14    1.52e+14\n",
      "time_trial_sq       -1.123e+13   3.56e+04  -3.16e+08      0.000   -1.12e+13   -1.12e+13\n",
      "=======================================================================================\n"
     ]
    },
    {
     "name": "stderr",
     "output_type": "stream",
     "text": [
      "c:\\Users\\jmrcn\\Clones\\TTE_INSIGHTING\\.venv\\Lib\\site-packages\\statsmodels\\genmod\\families\\family.py:1056: RuntimeWarning: divide by zero encountered in log\n",
      "  special.gammaln(n - y + 1) + y * np.log(mu / (1 - mu + 1e-20)) +\n",
      "c:\\Users\\jmrcn\\Clones\\TTE_INSIGHTING\\.venv\\Lib\\site-packages\\statsmodels\\genmod\\families\\family.py:1056: RuntimeWarning: invalid value encountered in multiply\n",
      "  special.gammaln(n - y + 1) + y * np.log(mu / (1 - mu + 1e-20)) +\n"
     ]
    }
   ],
<<<<<<< HEAD
=======
   "source": [
    "# For ITT: prepare the data for outcome modeling\n",
    "trial_itt_loaded = trial_itt_loaded.copy()\n",
    "trial_itt_loaded[\"assigned_treatment\"] = trial_itt_loaded[\"treatment\"]\n",
    "trial_itt_loaded[\"followup_time_sq\"] = trial_itt_loaded[\"followup_time\"] ** 2\n",
    "trial_itt_loaded[\"trial_period_sq\"] = trial_itt_loaded[\"trial_period\"] ** 2\n",
    "\n",
    "# Merge in ITT weights from the original trial_itt data (one per patient)\n",
    "weights_df = trial_itt['data'][[\"id\"]].drop_duplicates()\n",
    "trial_itt_loaded = trial_itt_loaded.merge(weights_df, on=\"id\", how=\"left\")\n",
    "\n",
    "# Winsorize weights: cap at 99th percentile\n",
    "w99 = trial_itt_loaded[\"ITT_weight\"].quantile(0.99)\n",
    "trial_itt_loaded[\"winsorized_weight\"] = np.minimum(trial_itt_loaded[\"ITT_weight\"], w99)\n",
    "\n",
    "# Define predictors per outcome model specification:\n",
    "# outcome ~ assigned_treatment + x2 + followup_time + followup_time^2 + trial_period + trial_period^2\n",
    "predictors = [\"assigned_treatment\", \"x2\", \"followup_time\", \"followup_time_sq\", \"trial_period\", \"trial_period_sq\"]\n",
    "X = trial_itt_loaded[predictors]\n",
    "X = sm.add_constant(X)\n",
    "y = trial_itt_loaded[\"outcome\"]\n",
    "\n",
    "# Fit the weighted logistic regression (MSM)\n",
    "msm_model = sm.GLM(y, X, family=sm.families.Binomial(), freq_weights=trial_itt_loaded[\"winsorized_weight\"]).fit()\n",
    "print(\"\\nMarginal Structural Model (MSM) Summary:\")\n",
    "print(msm_model.summary())"
   ]
  },
  {
   "cell_type": "markdown",
   "metadata": {},
>>>>>>> 23560305a2629b26bdb3f870eb37f8ecb8935be0
   "source": [
    "# Prepare ITT dataset for modeling outcomes\n",
    "itt_trial_sampled = itt_trial_sampled.copy()\n",
    "itt_trial_sampled[\"allocated_treatment\"] = itt_trial_sampled[\"treatment\"]\n",
    "itt_trial_sampled[\"time_followup_sq\"] = itt_trial_sampled[\"time_followed\"] ** 2\n",
    "itt_trial_sampled[\"time_trial_sq\"] = itt_trial_sampled[\"study_phase\"] ** 2\n",
    "\n",
    "# Retrieve ITT weights from the original dataset (ensuring one per individual)\n",
    "weight_data = itt_trial_data['data'][[\"id\", \"final_ITT_weight\"]].drop_duplicates()\n",
    "itt_trial_sampled = itt_trial_sampled.merge(weight_data, on=\"id\", how=\"left\")\n",
    "\n",
    "# Apply winsorization: limit extreme weight values at the 99th percentile\n",
    "weight_threshold = itt_trial_sampled[\"final_ITT_weight\"].quantile(0.99)\n",
    "itt_trial_sampled[\"capped_weight\"] = np.minimum(itt_trial_sampled[\"final_ITT_weight\"], weight_threshold)\n",
    "\n",
    "# Define model predictors per outcome modeling framework:\n",
    "# outcome ~ allocated_treatment + x2 + followup_time + followup_time^2 + trial_period + trial_period^2\n",
    "model_features = [\"allocated_treatment\", \"x2\", \"time_followed\", \"time_followup_sq\", \"study_phase\", \"time_trial_sq\"]\n",
    "X_model = itt_trial_sampled[model_features]\n",
    "X_model = sm.add_constant(X_model)\n",
    "y_outcome = itt_trial_sampled[\"outcome\"]\n",
    "\n",
    "# Fit the weighted logistic regression model (Marginal Structural Model - MSM)\n",
    "msm_fit = sm.GLM(y_outcome, X_model, family=sm.families.Binomial(), freq_weights=itt_trial_sampled[\"capped_weight\"]).fit()\n",
    "\n",
    "print(\"\\nMarginal Structural Model (MSM) Output:\")\n",
    "print(msm_fit.summary())"
   ]
  },
  {
<<<<<<< HEAD
   "cell_type": "markdown",
   "metadata": {},
   "source": [
    "## 9. Survival Probability Estimation and Visualization\n",
    "The trained MSM generates survival probability estimates across follow-up time (0–10). Two groups are compared:\n",
    "1. **Control group:** `assigned_treatment = 0`\n",
    "2. **Treated group:** `assigned_treatment = 1`\n",
    "\n",
    "Survival probabilities are calculated as:\n",
    "```python\n",
    "survival_prob = 1 - predicted_risk\n"
   ]
  },
  {
   "cell_type": "code",
   "execution_count": 40,
=======
   "cell_type": "code",
   "execution_count": 50,
>>>>>>> 23560305a2629b26bdb3f870eb37f8ecb8935be0
   "metadata": {
    "ExecuteTime": {
     "end_time": "2025-03-09T07:02:03.624436Z",
     "start_time": "2025-03-09T07:02:03.470396Z"
    }
   },
   "outputs": [
    {
     "data": {
<<<<<<< HEAD
      "image/png": "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",
=======
      "image/png": "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",
>>>>>>> 23560305a2629b26bdb3f870eb37f8ecb8935be0
      "text/plain": [
       "<Figure size 800x500 with 1 Axes>"
      ]
     },
     "metadata": {},
     "output_type": "display_data"
    }
   ],
   "source": [
    "# Define prediction follow-up times from 0 to 10\n",
    "predict_times = np.arange(0, 11)\n",
    "x2_mean = itt_trial_sampled[\"x2\"].mean()  # Use the sampled ITT dataset for mean calculation\n",
    "\n",
    "# Create prediction dataset for control (allocated_treatment = 0)\n",
    "new_data_0 = pd.DataFrame({\n",
    "    \"const\": 1,\n",
    "    \"allocated_treatment\": 0,  # Use \"allocated_treatment\" as defined in snippet 9\n",
    "    \"x2\": x2_mean,\n",
    "    \"time_followed\": predict_times,  # Use \"time_followed\" as defined in snippet 9\n",
    "    \"time_followup_sq\": predict_times**2,  # Use \"time_followup_sq\" as defined in snippet 9\n",
    "    \"study_phase\": 1,  # Use \"study_phase\" as defined in snippet 9\n",
    "    \"time_trial_sq\": np.ones_like(predict_times)  # Use \"time_trial_sq\" as defined in snippet 9\n",
    "})\n",
    "\n",
    "# Create prediction dataset for treated (allocated_treatment = 1)\n",
    "new_data_1 = new_data_0.copy()\n",
    "new_data_1[\"allocated_treatment\"] = 1\n",
    "\n",
    "# Generate predicted risk probabilities using the fitted MSM model\n",
    "pred_0 = msm_fit.predict(new_data_0)  # Use the fitted MSM model from snippet 9\n",
    "pred_1 = msm_fit.predict(new_data_1)\n",
    "\n",
    "# Convert risk to survival probability: survival = 1 - risk\n",
    "surv_0 = 1 - pred_0\n",
    "surv_1 = 1 - pred_1\n",
    "\n",
    "# Compute survival difference: treated minus control\n",
    "surv_diff = surv_1 - surv_0\n",
    "\n",
    "# For illustration, assume simple confidence intervals (±0.05)\n",
    "ci_lower = surv_diff - 0.05\n",
    "ci_upper = surv_diff + 0.05\n",
    "\n",
    "# Plot survival difference over follow-up time\n",
    "plt.figure(figsize=(8, 5))\n",
    "plt.plot(predict_times, surv_diff, label=\"Treatment Effect (Treated vs Control)\", color=\"purple\", linewidth=2)  # Changed to purple\n",
    "plt.plot(predict_times, ci_lower, label=\"Cl (2.5%)\", linestyle=\"--\", color=\"green\")  # Changed to green\n",
    "plt.plot(predict_times, ci_upper, label=\"Cl (97.5%)\", linestyle=\"--\", color=\"green\")  # Changed to green\n",
    "plt.xlabel(\"Follow-up Time\")\n",
    "plt.ylabel(\"Difference in Survival Probability\")\n",
    "plt.title(\"Treatment Effect on Survival Over Time\")\n",
    "plt.legend()\n",
    "plt.grid(True)\n",
    "plt.show()"
   ]
  },
  {
   "cell_type": "markdown",
   "metadata": {},
   "source": [
    "---\n",
    "\n",
    "# Insights from Survival Difference Analysis\n",
    "\n",
    "## 1. Interpretation of Negative Survival Difference\n",
    "- A survival difference **below zero** suggests the treated group has a lower survival probability than the control group.\n",
    "- The estimated effect (~ -0.08) indicates an **8% lower survival probability** in the treated group.\n",
    "- Confidence intervals remain **below zero**, reinforcing this conclusion.\n",
    "\n",
    "## 2. Consistency Over Time\n",
    "- The survival curve is relatively **flat**, signifying a **stable treatment effect** over time.\n",
    "- The **narrow confidence bands** indicate reliable estimation with minimal uncertainty.\n",
    "\n",
    "## 3. Possible Explanations for Negative Effects\n",
    "- **Residual confounding:** If adjustments are inadequate, confounders may skew results.\n",
    "- **Adverse treatment effects:** The treatment itself may have a negative impact.\n",
    "- **Bias in data:** Selection bias, missing data, or unstable weights could distort estimates.\n",
    "\n",
    "## 4. Suggestions for Further Investigation\n",
    "- **Refine models:** Reassess covariate selection and weight stability.\n",
    "- **Conduct sensitivity analyses:** Explore alternative modeling strategies.\n",
    "- **Examine subgroups:** Determine if effects vary across different patient populations.\n",
    "\n"
   ]
  }
 ],
 "metadata": {
  "kernelspec": {
   "display_name": ".venv",
   "language": "python",
   "name": "python3"
  },
  "language_info": {
   "codemirror_mode": {
    "name": "ipython",
    "version": 3
   },
   "file_extension": ".py",
   "mimetype": "text/x-python",
   "name": "python",
   "nbconvert_exporter": "python",
   "pygments_lexer": "ipython3",
   "version": "3.13.2"
  }
 },
 "nbformat": 4,
 "nbformat_minor": 2
}
